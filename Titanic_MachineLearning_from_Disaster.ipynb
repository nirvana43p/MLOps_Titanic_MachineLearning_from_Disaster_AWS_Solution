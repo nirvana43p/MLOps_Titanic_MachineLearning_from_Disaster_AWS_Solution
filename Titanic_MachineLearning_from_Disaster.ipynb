{
  "nbformat": 4,
  "nbformat_minor": 0,
  "metadata": {
    "colab": {
      "name": "Titanic_MachineLearning_from_Disaster.ipynb",
      "provenance": [],
      "collapsed_sections": [
        "OGRNWPR77Dkr",
        "CkIlkbze71FP"
      ]
    },
    "kernelspec": {
      "name": "python3",
      "display_name": "Python 3"
    },
    "language_info": {
      "name": "python"
    }
  },
  "cells": [
    {
      "cell_type": "markdown",
      "source": [
        "# Titanic_MachineLearning_from_Disaster\n",
        "\n",
        "Task : use machine learning to create a model that predicts which passengers survived the Titanic shipwreck.\n",
        "\n",
        "Competition url : https://www.kaggle.com/c/titanic"
      ],
      "metadata": {
        "id": "MpUWXimddctH"
      }
    },
    {
      "cell_type": "markdown",
      "source": [
        "## Data Preparation"
      ],
      "metadata": {
        "id": "d-ytZEYad1F4"
      }
    },
    {
      "cell_type": "code",
      "source": [
        "# Setting the data path\n",
        "dataPath = \"./data/\"  \n",
        "!ls data/"
      ],
      "metadata": {
        "colab": {
          "base_uri": "https://localhost:8080/"
        },
        "id": "DgiZvtfqeHJf",
        "outputId": "825cec0a-f57b-4f96-b4f6-9df8b75a1305"
      },
      "execution_count": null,
      "outputs": [
        {
          "output_type": "stream",
          "name": "stdout",
          "text": [
            "gender_submission.csv  test.csv  train.csv\n"
          ]
        }
      ]
    },
    {
      "cell_type": "code",
      "execution_count": null,
      "metadata": {
        "id": "rbb7eDqFdFUh"
      },
      "outputs": [],
      "source": [
        "# Importing libraries for data processing\n",
        "import re\n",
        "import shelve\n",
        "import pandas as pd\n",
        "from sklearn.impute import KNNImputer"
      ]
    },
    {
      "cell_type": "code",
      "source": [
        "df_train = pd.read_csv(dataPath+\"train.csv\",encoding=\"latin-1\",low_memory=False)"
      ],
      "metadata": {
        "id": "an4gEUd0gQyg"
      },
      "execution_count": null,
      "outputs": []
    },
    {
      "cell_type": "code",
      "source": [
        "df_train.head()"
      ],
      "metadata": {
        "colab": {
          "base_uri": "https://localhost:8080/",
          "height": 302
        },
        "id": "rRFLe_0Dgb9b",
        "outputId": "1e127928-4ece-40dd-c573-796c1792cdc9"
      },
      "execution_count": null,
      "outputs": [
        {
          "output_type": "execute_result",
          "data": {
            "text/plain": [
              "   PassengerId  Survived  Pclass  \\\n",
              "0            1         0       3   \n",
              "1            2         1       1   \n",
              "2            3         1       3   \n",
              "3            4         1       1   \n",
              "4            5         0       3   \n",
              "\n",
              "                                                Name     Sex   Age  SibSp  \\\n",
              "0                            Braund, Mr. Owen Harris    male  22.0      1   \n",
              "1  Cumings, Mrs. John Bradley (Florence Briggs Th...  female  38.0      1   \n",
              "2                             Heikkinen, Miss. Laina  female  26.0      0   \n",
              "3       Futrelle, Mrs. Jacques Heath (Lily May Peel)  female  35.0      1   \n",
              "4                           Allen, Mr. William Henry    male  35.0      0   \n",
              "\n",
              "   Parch            Ticket     Fare Cabin Embarked  \n",
              "0      0         A/5 21171   7.2500   NaN        S  \n",
              "1      0          PC 17599  71.2833   C85        C  \n",
              "2      0  STON/O2. 3101282   7.9250   NaN        S  \n",
              "3      0            113803  53.1000  C123        S  \n",
              "4      0            373450   8.0500   NaN        S  "
            ],
            "text/html": [
              "\n",
              "  <div id=\"df-4c0d26f8-8c56-431d-b9d3-f5586b156605\">\n",
              "    <div class=\"colab-df-container\">\n",
              "      <div>\n",
              "<style scoped>\n",
              "    .dataframe tbody tr th:only-of-type {\n",
              "        vertical-align: middle;\n",
              "    }\n",
              "\n",
              "    .dataframe tbody tr th {\n",
              "        vertical-align: top;\n",
              "    }\n",
              "\n",
              "    .dataframe thead th {\n",
              "        text-align: right;\n",
              "    }\n",
              "</style>\n",
              "<table border=\"1\" class=\"dataframe\">\n",
              "  <thead>\n",
              "    <tr style=\"text-align: right;\">\n",
              "      <th></th>\n",
              "      <th>PassengerId</th>\n",
              "      <th>Survived</th>\n",
              "      <th>Pclass</th>\n",
              "      <th>Name</th>\n",
              "      <th>Sex</th>\n",
              "      <th>Age</th>\n",
              "      <th>SibSp</th>\n",
              "      <th>Parch</th>\n",
              "      <th>Ticket</th>\n",
              "      <th>Fare</th>\n",
              "      <th>Cabin</th>\n",
              "      <th>Embarked</th>\n",
              "    </tr>\n",
              "  </thead>\n",
              "  <tbody>\n",
              "    <tr>\n",
              "      <th>0</th>\n",
              "      <td>1</td>\n",
              "      <td>0</td>\n",
              "      <td>3</td>\n",
              "      <td>Braund, Mr. Owen Harris</td>\n",
              "      <td>male</td>\n",
              "      <td>22.0</td>\n",
              "      <td>1</td>\n",
              "      <td>0</td>\n",
              "      <td>A/5 21171</td>\n",
              "      <td>7.2500</td>\n",
              "      <td>NaN</td>\n",
              "      <td>S</td>\n",
              "    </tr>\n",
              "    <tr>\n",
              "      <th>1</th>\n",
              "      <td>2</td>\n",
              "      <td>1</td>\n",
              "      <td>1</td>\n",
              "      <td>Cumings, Mrs. John Bradley (Florence Briggs Th...</td>\n",
              "      <td>female</td>\n",
              "      <td>38.0</td>\n",
              "      <td>1</td>\n",
              "      <td>0</td>\n",
              "      <td>PC 17599</td>\n",
              "      <td>71.2833</td>\n",
              "      <td>C85</td>\n",
              "      <td>C</td>\n",
              "    </tr>\n",
              "    <tr>\n",
              "      <th>2</th>\n",
              "      <td>3</td>\n",
              "      <td>1</td>\n",
              "      <td>3</td>\n",
              "      <td>Heikkinen, Miss. Laina</td>\n",
              "      <td>female</td>\n",
              "      <td>26.0</td>\n",
              "      <td>0</td>\n",
              "      <td>0</td>\n",
              "      <td>STON/O2. 3101282</td>\n",
              "      <td>7.9250</td>\n",
              "      <td>NaN</td>\n",
              "      <td>S</td>\n",
              "    </tr>\n",
              "    <tr>\n",
              "      <th>3</th>\n",
              "      <td>4</td>\n",
              "      <td>1</td>\n",
              "      <td>1</td>\n",
              "      <td>Futrelle, Mrs. Jacques Heath (Lily May Peel)</td>\n",
              "      <td>female</td>\n",
              "      <td>35.0</td>\n",
              "      <td>1</td>\n",
              "      <td>0</td>\n",
              "      <td>113803</td>\n",
              "      <td>53.1000</td>\n",
              "      <td>C123</td>\n",
              "      <td>S</td>\n",
              "    </tr>\n",
              "    <tr>\n",
              "      <th>4</th>\n",
              "      <td>5</td>\n",
              "      <td>0</td>\n",
              "      <td>3</td>\n",
              "      <td>Allen, Mr. William Henry</td>\n",
              "      <td>male</td>\n",
              "      <td>35.0</td>\n",
              "      <td>0</td>\n",
              "      <td>0</td>\n",
              "      <td>373450</td>\n",
              "      <td>8.0500</td>\n",
              "      <td>NaN</td>\n",
              "      <td>S</td>\n",
              "    </tr>\n",
              "  </tbody>\n",
              "</table>\n",
              "</div>\n",
              "      <button class=\"colab-df-convert\" onclick=\"convertToInteractive('df-4c0d26f8-8c56-431d-b9d3-f5586b156605')\"\n",
              "              title=\"Convert this dataframe to an interactive table.\"\n",
              "              style=\"display:none;\">\n",
              "        \n",
              "  <svg xmlns=\"http://www.w3.org/2000/svg\" height=\"24px\"viewBox=\"0 0 24 24\"\n",
              "       width=\"24px\">\n",
              "    <path d=\"M0 0h24v24H0V0z\" fill=\"none\"/>\n",
              "    <path d=\"M18.56 5.44l.94 2.06.94-2.06 2.06-.94-2.06-.94-.94-2.06-.94 2.06-2.06.94zm-11 1L8.5 8.5l.94-2.06 2.06-.94-2.06-.94L8.5 2.5l-.94 2.06-2.06.94zm10 10l.94 2.06.94-2.06 2.06-.94-2.06-.94-.94-2.06-.94 2.06-2.06.94z\"/><path d=\"M17.41 7.96l-1.37-1.37c-.4-.4-.92-.59-1.43-.59-.52 0-1.04.2-1.43.59L10.3 9.45l-7.72 7.72c-.78.78-.78 2.05 0 2.83L4 21.41c.39.39.9.59 1.41.59.51 0 1.02-.2 1.41-.59l7.78-7.78 2.81-2.81c.8-.78.8-2.07 0-2.86zM5.41 20L4 18.59l7.72-7.72 1.47 1.35L5.41 20z\"/>\n",
              "  </svg>\n",
              "      </button>\n",
              "      \n",
              "  <style>\n",
              "    .colab-df-container {\n",
              "      display:flex;\n",
              "      flex-wrap:wrap;\n",
              "      gap: 12px;\n",
              "    }\n",
              "\n",
              "    .colab-df-convert {\n",
              "      background-color: #E8F0FE;\n",
              "      border: none;\n",
              "      border-radius: 50%;\n",
              "      cursor: pointer;\n",
              "      display: none;\n",
              "      fill: #1967D2;\n",
              "      height: 32px;\n",
              "      padding: 0 0 0 0;\n",
              "      width: 32px;\n",
              "    }\n",
              "\n",
              "    .colab-df-convert:hover {\n",
              "      background-color: #E2EBFA;\n",
              "      box-shadow: 0px 1px 2px rgba(60, 64, 67, 0.3), 0px 1px 3px 1px rgba(60, 64, 67, 0.15);\n",
              "      fill: #174EA6;\n",
              "    }\n",
              "\n",
              "    [theme=dark] .colab-df-convert {\n",
              "      background-color: #3B4455;\n",
              "      fill: #D2E3FC;\n",
              "    }\n",
              "\n",
              "    [theme=dark] .colab-df-convert:hover {\n",
              "      background-color: #434B5C;\n",
              "      box-shadow: 0px 1px 3px 1px rgba(0, 0, 0, 0.15);\n",
              "      filter: drop-shadow(0px 1px 2px rgba(0, 0, 0, 0.3));\n",
              "      fill: #FFFFFF;\n",
              "    }\n",
              "  </style>\n",
              "\n",
              "      <script>\n",
              "        const buttonEl =\n",
              "          document.querySelector('#df-4c0d26f8-8c56-431d-b9d3-f5586b156605 button.colab-df-convert');\n",
              "        buttonEl.style.display =\n",
              "          google.colab.kernel.accessAllowed ? 'block' : 'none';\n",
              "\n",
              "        async function convertToInteractive(key) {\n",
              "          const element = document.querySelector('#df-4c0d26f8-8c56-431d-b9d3-f5586b156605');\n",
              "          const dataTable =\n",
              "            await google.colab.kernel.invokeFunction('convertToInteractive',\n",
              "                                                     [key], {});\n",
              "          if (!dataTable) return;\n",
              "\n",
              "          const docLinkHtml = 'Like what you see? Visit the ' +\n",
              "            '<a target=\"_blank\" href=https://colab.research.google.com/notebooks/data_table.ipynb>data table notebook</a>'\n",
              "            + ' to learn more about interactive tables.';\n",
              "          element.innerHTML = '';\n",
              "          dataTable['output_type'] = 'display_data';\n",
              "          await google.colab.output.renderOutput(dataTable, element);\n",
              "          const docLink = document.createElement('div');\n",
              "          docLink.innerHTML = docLinkHtml;\n",
              "          element.appendChild(docLink);\n",
              "        }\n",
              "      </script>\n",
              "    </div>\n",
              "  </div>\n",
              "  "
            ]
          },
          "metadata": {},
          "execution_count": 4
        }
      ]
    },
    {
      "cell_type": "markdown",
      "source": [
        "### Functions for Data Preparation"
      ],
      "metadata": {
        "id": "oDSjUoP3enBi"
      }
    },
    {
      "cell_type": "code",
      "source": [
        "def df_transform_name(df, codification):\n",
        "    \n",
        "    \"\"\" This is a function to perform a transformation of the column Name based on a codification.\n",
        "        Specifically, it transforms a name into a number depending of its title name\n",
        "        For example: \n",
        "            Braund, Mr. Owen Harris --> 1\n",
        "            Futrelle, Mrs. Jacques Heath (Lily May Peel) --> 2\n",
        "    \n",
        "    Args:\n",
        "        df (Pandas DataFrame): dataframe\n",
        "        codification (dict): the mapping name to code number\n",
        "    return:\n",
        "        df (Pandas DataFrame): column title added to dataframe\n",
        "    \"\"\"\n",
        "    \n",
        "    regex = \"\\.|\".join(list(codification.keys())[:-1])+\"\\.\" # get the regex to match titles\n",
        "    \n",
        "    def getTitle(name):\n",
        "        title = re.findall(regex,name)\n",
        "        \n",
        "        if title:\n",
        "            title = title[0][0:-1]\n",
        "            return codification.get(title,0)\n",
        "        else:\n",
        "            return codification[\"Other\"]\n",
        "        \n",
        "    df[\"Title_Name\"] = df.Name.apply(lambda name: getTitle(name))"
      ],
      "metadata": {
        "id": "cT7Yv1wletFn"
      },
      "execution_count": null,
      "outputs": []
    },
    {
      "cell_type": "code",
      "source": [
        "def missing_values(data,col,features,n_neighbors=5,weights='uniform',metric='nan_euclidean',**kwargs):\n",
        "    \n",
        "    \"\"\" This is a function to impute missing values with k-nearest neighbors.\n",
        "        In order to do the inputation, it must choose the column and features \n",
        "        with numerical values.\n",
        "    \n",
        "    Args:\n",
        "        data (Pandas DataFrame): dataframe\n",
        "        col (string): column to input missing values\n",
        "        features [list[string]]: features of k-nearest neighbors\n",
        "        n_neighbors (int): number of neighbors\n",
        "        weights (string): weight for each feature\n",
        "        metric (string): metric to use\n",
        "    return:\n",
        "        data (Pandas DataFrame): inputed column added to dataframe\n",
        "    \n",
        "    \"\"\"\n",
        "        \n",
        "    imputer = KNNImputer(n_neighbors=n_neighbors, weights=weights, metric=metric,**kwargs)\n",
        "    \n",
        "    features = [col] + features\n",
        "        \n",
        "    X = data[features]    \n",
        "    y = data[col]\n",
        "    \n",
        "    X = X[features]\n",
        "    \n",
        "    data[col] = imputer.fit_transform(X, y)"
      ],
      "metadata": {
        "id": "VvyoUiKke7Yq"
      },
      "execution_count": null,
      "outputs": []
    },
    {
      "cell_type": "code",
      "source": [
        "def object_to_categorical_or_numerical(df,col,order=None,toCode=True):\n",
        "    \n",
        "    \"\"\" This is a function to convert an object columns to categorical or numerical column\n",
        "    \n",
        "    Args:\n",
        "        df (Pandas DataFrame): dataframe\n",
        "        col (string): column to cast\n",
        "        order (tuple): order of the categories\n",
        "        toCode (bool): if true return the code of the categories\n",
        "    return:\n",
        "        df (Pandas DataFrame): inputed column added to dataframe\n",
        "    \n",
        "    \"\"\"\n",
        "    \n",
        "    df[col] = df[col].astype(\"category\")\n",
        "    if order:\n",
        "        df[col].cat.set_categories(order,ordered=True,inplace=True)\n",
        "    \n",
        "    if toCode:\n",
        "        df[col] = df[col].cat.codes"
      ],
      "metadata": {
        "id": "1vc2GmwwfIn2"
      },
      "execution_count": null,
      "outputs": []
    },
    {
      "cell_type": "markdown",
      "source": [
        "### Feature Engineering"
      ],
      "metadata": {
        "id": "Kd5462ehgIJM"
      }
    },
    {
      "cell_type": "code",
      "source": [
        "df_train[\"Name\"].head()"
      ],
      "metadata": {
        "colab": {
          "base_uri": "https://localhost:8080/"
        },
        "id": "mIBkLIJ-iaVD",
        "outputId": "ca2fec4b-5059-4fd7-9b33-0fb81ddb723c"
      },
      "execution_count": null,
      "outputs": [
        {
          "output_type": "execute_result",
          "data": {
            "text/plain": [
              "0                              Braund, Mr. Owen Harris\n",
              "1    Cumings, Mrs. John Bradley (Florence Briggs Th...\n",
              "2                               Heikkinen, Miss. Laina\n",
              "3         Futrelle, Mrs. Jacques Heath (Lily May Peel)\n",
              "4                             Allen, Mr. William Henry\n",
              "Name: Name, dtype: object"
            ]
          },
          "metadata": {},
          "execution_count": 8
        }
      ]
    },
    {
      "cell_type": "code",
      "source": [
        "# Condification of title name of each person\n",
        "codification_title = {\"Mr\": 1,\n",
        "                \"Mrs\" : 2,\n",
        "                \"Miss\" : 3,\n",
        "                \"Master\" : 4,\n",
        "                \"Rev\" : 5,\n",
        "                \"Dr\" : 6,\n",
        "                \"Other\": 7}\n",
        "\n",
        "df_transform_name(df_train,codification_title)\n",
        "df_train[[\"Name\",\"Title_Name\",\"Sex\"]].head()"
      ],
      "metadata": {
        "colab": {
          "base_uri": "https://localhost:8080/",
          "height": 206
        },
        "id": "_6iDftAchc1U",
        "outputId": "bfa25e60-5eda-4f1d-8a1d-5c171cbb0a0f"
      },
      "execution_count": null,
      "outputs": [
        {
          "output_type": "execute_result",
          "data": {
            "text/plain": [
              "                                                Name  Title_Name     Sex\n",
              "0                            Braund, Mr. Owen Harris           1    male\n",
              "1  Cumings, Mrs. John Bradley (Florence Briggs Th...           2  female\n",
              "2                             Heikkinen, Miss. Laina           3  female\n",
              "3       Futrelle, Mrs. Jacques Heath (Lily May Peel)           2  female\n",
              "4                           Allen, Mr. William Henry           1    male"
            ],
            "text/html": [
              "\n",
              "  <div id=\"df-c5d8e7de-9a7a-4017-a812-184453b3e68b\">\n",
              "    <div class=\"colab-df-container\">\n",
              "      <div>\n",
              "<style scoped>\n",
              "    .dataframe tbody tr th:only-of-type {\n",
              "        vertical-align: middle;\n",
              "    }\n",
              "\n",
              "    .dataframe tbody tr th {\n",
              "        vertical-align: top;\n",
              "    }\n",
              "\n",
              "    .dataframe thead th {\n",
              "        text-align: right;\n",
              "    }\n",
              "</style>\n",
              "<table border=\"1\" class=\"dataframe\">\n",
              "  <thead>\n",
              "    <tr style=\"text-align: right;\">\n",
              "      <th></th>\n",
              "      <th>Name</th>\n",
              "      <th>Title_Name</th>\n",
              "      <th>Sex</th>\n",
              "    </tr>\n",
              "  </thead>\n",
              "  <tbody>\n",
              "    <tr>\n",
              "      <th>0</th>\n",
              "      <td>Braund, Mr. Owen Harris</td>\n",
              "      <td>1</td>\n",
              "      <td>male</td>\n",
              "    </tr>\n",
              "    <tr>\n",
              "      <th>1</th>\n",
              "      <td>Cumings, Mrs. John Bradley (Florence Briggs Th...</td>\n",
              "      <td>2</td>\n",
              "      <td>female</td>\n",
              "    </tr>\n",
              "    <tr>\n",
              "      <th>2</th>\n",
              "      <td>Heikkinen, Miss. Laina</td>\n",
              "      <td>3</td>\n",
              "      <td>female</td>\n",
              "    </tr>\n",
              "    <tr>\n",
              "      <th>3</th>\n",
              "      <td>Futrelle, Mrs. Jacques Heath (Lily May Peel)</td>\n",
              "      <td>2</td>\n",
              "      <td>female</td>\n",
              "    </tr>\n",
              "    <tr>\n",
              "      <th>4</th>\n",
              "      <td>Allen, Mr. William Henry</td>\n",
              "      <td>1</td>\n",
              "      <td>male</td>\n",
              "    </tr>\n",
              "  </tbody>\n",
              "</table>\n",
              "</div>\n",
              "      <button class=\"colab-df-convert\" onclick=\"convertToInteractive('df-c5d8e7de-9a7a-4017-a812-184453b3e68b')\"\n",
              "              title=\"Convert this dataframe to an interactive table.\"\n",
              "              style=\"display:none;\">\n",
              "        \n",
              "  <svg xmlns=\"http://www.w3.org/2000/svg\" height=\"24px\"viewBox=\"0 0 24 24\"\n",
              "       width=\"24px\">\n",
              "    <path d=\"M0 0h24v24H0V0z\" fill=\"none\"/>\n",
              "    <path d=\"M18.56 5.44l.94 2.06.94-2.06 2.06-.94-2.06-.94-.94-2.06-.94 2.06-2.06.94zm-11 1L8.5 8.5l.94-2.06 2.06-.94-2.06-.94L8.5 2.5l-.94 2.06-2.06.94zm10 10l.94 2.06.94-2.06 2.06-.94-2.06-.94-.94-2.06-.94 2.06-2.06.94z\"/><path d=\"M17.41 7.96l-1.37-1.37c-.4-.4-.92-.59-1.43-.59-.52 0-1.04.2-1.43.59L10.3 9.45l-7.72 7.72c-.78.78-.78 2.05 0 2.83L4 21.41c.39.39.9.59 1.41.59.51 0 1.02-.2 1.41-.59l7.78-7.78 2.81-2.81c.8-.78.8-2.07 0-2.86zM5.41 20L4 18.59l7.72-7.72 1.47 1.35L5.41 20z\"/>\n",
              "  </svg>\n",
              "      </button>\n",
              "      \n",
              "  <style>\n",
              "    .colab-df-container {\n",
              "      display:flex;\n",
              "      flex-wrap:wrap;\n",
              "      gap: 12px;\n",
              "    }\n",
              "\n",
              "    .colab-df-convert {\n",
              "      background-color: #E8F0FE;\n",
              "      border: none;\n",
              "      border-radius: 50%;\n",
              "      cursor: pointer;\n",
              "      display: none;\n",
              "      fill: #1967D2;\n",
              "      height: 32px;\n",
              "      padding: 0 0 0 0;\n",
              "      width: 32px;\n",
              "    }\n",
              "\n",
              "    .colab-df-convert:hover {\n",
              "      background-color: #E2EBFA;\n",
              "      box-shadow: 0px 1px 2px rgba(60, 64, 67, 0.3), 0px 1px 3px 1px rgba(60, 64, 67, 0.15);\n",
              "      fill: #174EA6;\n",
              "    }\n",
              "\n",
              "    [theme=dark] .colab-df-convert {\n",
              "      background-color: #3B4455;\n",
              "      fill: #D2E3FC;\n",
              "    }\n",
              "\n",
              "    [theme=dark] .colab-df-convert:hover {\n",
              "      background-color: #434B5C;\n",
              "      box-shadow: 0px 1px 3px 1px rgba(0, 0, 0, 0.15);\n",
              "      filter: drop-shadow(0px 1px 2px rgba(0, 0, 0, 0.3));\n",
              "      fill: #FFFFFF;\n",
              "    }\n",
              "  </style>\n",
              "\n",
              "      <script>\n",
              "        const buttonEl =\n",
              "          document.querySelector('#df-c5d8e7de-9a7a-4017-a812-184453b3e68b button.colab-df-convert');\n",
              "        buttonEl.style.display =\n",
              "          google.colab.kernel.accessAllowed ? 'block' : 'none';\n",
              "\n",
              "        async function convertToInteractive(key) {\n",
              "          const element = document.querySelector('#df-c5d8e7de-9a7a-4017-a812-184453b3e68b');\n",
              "          const dataTable =\n",
              "            await google.colab.kernel.invokeFunction('convertToInteractive',\n",
              "                                                     [key], {});\n",
              "          if (!dataTable) return;\n",
              "\n",
              "          const docLinkHtml = 'Like what you see? Visit the ' +\n",
              "            '<a target=\"_blank\" href=https://colab.research.google.com/notebooks/data_table.ipynb>data table notebook</a>'\n",
              "            + ' to learn more about interactive tables.';\n",
              "          element.innerHTML = '';\n",
              "          dataTable['output_type'] = 'display_data';\n",
              "          await google.colab.output.renderOutput(dataTable, element);\n",
              "          const docLink = document.createElement('div');\n",
              "          docLink.innerHTML = docLinkHtml;\n",
              "          element.appendChild(docLink);\n",
              "        }\n",
              "      </script>\n",
              "    </div>\n",
              "  </div>\n",
              "  "
            ]
          },
          "metadata": {},
          "execution_count": 9
        }
      ]
    },
    {
      "cell_type": "code",
      "source": [
        "df_train[\"Embarked\"].unique()"
      ],
      "metadata": {
        "colab": {
          "base_uri": "https://localhost:8080/"
        },
        "id": "JLWzC-onYC9j",
        "outputId": "9e4ee4e0-f462-4321-f98c-c783a647558e"
      },
      "execution_count": null,
      "outputs": [
        {
          "output_type": "execute_result",
          "data": {
            "text/plain": [
              "array(['S', 'C', 'Q', nan], dtype=object)"
            ]
          },
          "metadata": {},
          "execution_count": 12
        }
      ]
    },
    {
      "cell_type": "code",
      "source": [
        "# lets cast object columns to categorical\n",
        "object_to_categorical_or_numerical(df_train, \"Sex\")\n",
        "object_to_categorical_or_numerical(df_train, \"Embarked\") "
      ],
      "metadata": {
        "id": "FUKdCnW6ogAZ"
      },
      "execution_count": null,
      "outputs": []
    },
    {
      "cell_type": "code",
      "source": [
        "df_train"
      ],
      "metadata": {
        "colab": {
          "base_uri": "https://localhost:8080/",
          "height": 554
        },
        "id": "P9cgqLARWsng",
        "outputId": "67a34969-5a0c-4f46-a743-cc240ea2f320"
      },
      "execution_count": null,
      "outputs": [
        {
          "output_type": "execute_result",
          "data": {
            "text/plain": [
              "     PassengerId  Survived  Pclass  \\\n",
              "0              1         0       3   \n",
              "1              2         1       1   \n",
              "2              3         1       3   \n",
              "3              4         1       1   \n",
              "4              5         0       3   \n",
              "..           ...       ...     ...   \n",
              "886          887         0       2   \n",
              "887          888         1       1   \n",
              "888          889         0       3   \n",
              "889          890         1       1   \n",
              "890          891         0       3   \n",
              "\n",
              "                                                  Name  Sex   Age  SibSp  \\\n",
              "0                              Braund, Mr. Owen Harris    1  22.0      1   \n",
              "1    Cumings, Mrs. John Bradley (Florence Briggs Th...    0  38.0      1   \n",
              "2                               Heikkinen, Miss. Laina    0  26.0      0   \n",
              "3         Futrelle, Mrs. Jacques Heath (Lily May Peel)    0  35.0      1   \n",
              "4                             Allen, Mr. William Henry    1  35.0      0   \n",
              "..                                                 ...  ...   ...    ...   \n",
              "886                              Montvila, Rev. Juozas    1  27.0      0   \n",
              "887                       Graham, Miss. Margaret Edith    0  19.0      0   \n",
              "888           Johnston, Miss. Catherine Helen \"Carrie\"    0   NaN      1   \n",
              "889                              Behr, Mr. Karl Howell    1  26.0      0   \n",
              "890                                Dooley, Mr. Patrick    1  32.0      0   \n",
              "\n",
              "     Parch            Ticket     Fare Cabin  Embarked  Title_Name  \n",
              "0        0         A/5 21171   7.2500   NaN         2           1  \n",
              "1        0          PC 17599  71.2833   C85         0           2  \n",
              "2        0  STON/O2. 3101282   7.9250   NaN         2           3  \n",
              "3        0            113803  53.1000  C123         2           2  \n",
              "4        0            373450   8.0500   NaN         2           1  \n",
              "..     ...               ...      ...   ...       ...         ...  \n",
              "886      0            211536  13.0000   NaN         2           5  \n",
              "887      0            112053  30.0000   B42         2           3  \n",
              "888      2        W./C. 6607  23.4500   NaN         2           3  \n",
              "889      0            111369  30.0000  C148         0           1  \n",
              "890      0            370376   7.7500   NaN         1           1  \n",
              "\n",
              "[891 rows x 13 columns]"
            ],
            "text/html": [
              "\n",
              "  <div id=\"df-e846098e-a3a6-47e9-b5b7-e2f385332524\">\n",
              "    <div class=\"colab-df-container\">\n",
              "      <div>\n",
              "<style scoped>\n",
              "    .dataframe tbody tr th:only-of-type {\n",
              "        vertical-align: middle;\n",
              "    }\n",
              "\n",
              "    .dataframe tbody tr th {\n",
              "        vertical-align: top;\n",
              "    }\n",
              "\n",
              "    .dataframe thead th {\n",
              "        text-align: right;\n",
              "    }\n",
              "</style>\n",
              "<table border=\"1\" class=\"dataframe\">\n",
              "  <thead>\n",
              "    <tr style=\"text-align: right;\">\n",
              "      <th></th>\n",
              "      <th>PassengerId</th>\n",
              "      <th>Survived</th>\n",
              "      <th>Pclass</th>\n",
              "      <th>Name</th>\n",
              "      <th>Sex</th>\n",
              "      <th>Age</th>\n",
              "      <th>SibSp</th>\n",
              "      <th>Parch</th>\n",
              "      <th>Ticket</th>\n",
              "      <th>Fare</th>\n",
              "      <th>Cabin</th>\n",
              "      <th>Embarked</th>\n",
              "      <th>Title_Name</th>\n",
              "    </tr>\n",
              "  </thead>\n",
              "  <tbody>\n",
              "    <tr>\n",
              "      <th>0</th>\n",
              "      <td>1</td>\n",
              "      <td>0</td>\n",
              "      <td>3</td>\n",
              "      <td>Braund, Mr. Owen Harris</td>\n",
              "      <td>1</td>\n",
              "      <td>22.0</td>\n",
              "      <td>1</td>\n",
              "      <td>0</td>\n",
              "      <td>A/5 21171</td>\n",
              "      <td>7.2500</td>\n",
              "      <td>NaN</td>\n",
              "      <td>2</td>\n",
              "      <td>1</td>\n",
              "    </tr>\n",
              "    <tr>\n",
              "      <th>1</th>\n",
              "      <td>2</td>\n",
              "      <td>1</td>\n",
              "      <td>1</td>\n",
              "      <td>Cumings, Mrs. John Bradley (Florence Briggs Th...</td>\n",
              "      <td>0</td>\n",
              "      <td>38.0</td>\n",
              "      <td>1</td>\n",
              "      <td>0</td>\n",
              "      <td>PC 17599</td>\n",
              "      <td>71.2833</td>\n",
              "      <td>C85</td>\n",
              "      <td>0</td>\n",
              "      <td>2</td>\n",
              "    </tr>\n",
              "    <tr>\n",
              "      <th>2</th>\n",
              "      <td>3</td>\n",
              "      <td>1</td>\n",
              "      <td>3</td>\n",
              "      <td>Heikkinen, Miss. Laina</td>\n",
              "      <td>0</td>\n",
              "      <td>26.0</td>\n",
              "      <td>0</td>\n",
              "      <td>0</td>\n",
              "      <td>STON/O2. 3101282</td>\n",
              "      <td>7.9250</td>\n",
              "      <td>NaN</td>\n",
              "      <td>2</td>\n",
              "      <td>3</td>\n",
              "    </tr>\n",
              "    <tr>\n",
              "      <th>3</th>\n",
              "      <td>4</td>\n",
              "      <td>1</td>\n",
              "      <td>1</td>\n",
              "      <td>Futrelle, Mrs. Jacques Heath (Lily May Peel)</td>\n",
              "      <td>0</td>\n",
              "      <td>35.0</td>\n",
              "      <td>1</td>\n",
              "      <td>0</td>\n",
              "      <td>113803</td>\n",
              "      <td>53.1000</td>\n",
              "      <td>C123</td>\n",
              "      <td>2</td>\n",
              "      <td>2</td>\n",
              "    </tr>\n",
              "    <tr>\n",
              "      <th>4</th>\n",
              "      <td>5</td>\n",
              "      <td>0</td>\n",
              "      <td>3</td>\n",
              "      <td>Allen, Mr. William Henry</td>\n",
              "      <td>1</td>\n",
              "      <td>35.0</td>\n",
              "      <td>0</td>\n",
              "      <td>0</td>\n",
              "      <td>373450</td>\n",
              "      <td>8.0500</td>\n",
              "      <td>NaN</td>\n",
              "      <td>2</td>\n",
              "      <td>1</td>\n",
              "    </tr>\n",
              "    <tr>\n",
              "      <th>...</th>\n",
              "      <td>...</td>\n",
              "      <td>...</td>\n",
              "      <td>...</td>\n",
              "      <td>...</td>\n",
              "      <td>...</td>\n",
              "      <td>...</td>\n",
              "      <td>...</td>\n",
              "      <td>...</td>\n",
              "      <td>...</td>\n",
              "      <td>...</td>\n",
              "      <td>...</td>\n",
              "      <td>...</td>\n",
              "      <td>...</td>\n",
              "    </tr>\n",
              "    <tr>\n",
              "      <th>886</th>\n",
              "      <td>887</td>\n",
              "      <td>0</td>\n",
              "      <td>2</td>\n",
              "      <td>Montvila, Rev. Juozas</td>\n",
              "      <td>1</td>\n",
              "      <td>27.0</td>\n",
              "      <td>0</td>\n",
              "      <td>0</td>\n",
              "      <td>211536</td>\n",
              "      <td>13.0000</td>\n",
              "      <td>NaN</td>\n",
              "      <td>2</td>\n",
              "      <td>5</td>\n",
              "    </tr>\n",
              "    <tr>\n",
              "      <th>887</th>\n",
              "      <td>888</td>\n",
              "      <td>1</td>\n",
              "      <td>1</td>\n",
              "      <td>Graham, Miss. Margaret Edith</td>\n",
              "      <td>0</td>\n",
              "      <td>19.0</td>\n",
              "      <td>0</td>\n",
              "      <td>0</td>\n",
              "      <td>112053</td>\n",
              "      <td>30.0000</td>\n",
              "      <td>B42</td>\n",
              "      <td>2</td>\n",
              "      <td>3</td>\n",
              "    </tr>\n",
              "    <tr>\n",
              "      <th>888</th>\n",
              "      <td>889</td>\n",
              "      <td>0</td>\n",
              "      <td>3</td>\n",
              "      <td>Johnston, Miss. Catherine Helen \"Carrie\"</td>\n",
              "      <td>0</td>\n",
              "      <td>NaN</td>\n",
              "      <td>1</td>\n",
              "      <td>2</td>\n",
              "      <td>W./C. 6607</td>\n",
              "      <td>23.4500</td>\n",
              "      <td>NaN</td>\n",
              "      <td>2</td>\n",
              "      <td>3</td>\n",
              "    </tr>\n",
              "    <tr>\n",
              "      <th>889</th>\n",
              "      <td>890</td>\n",
              "      <td>1</td>\n",
              "      <td>1</td>\n",
              "      <td>Behr, Mr. Karl Howell</td>\n",
              "      <td>1</td>\n",
              "      <td>26.0</td>\n",
              "      <td>0</td>\n",
              "      <td>0</td>\n",
              "      <td>111369</td>\n",
              "      <td>30.0000</td>\n",
              "      <td>C148</td>\n",
              "      <td>0</td>\n",
              "      <td>1</td>\n",
              "    </tr>\n",
              "    <tr>\n",
              "      <th>890</th>\n",
              "      <td>891</td>\n",
              "      <td>0</td>\n",
              "      <td>3</td>\n",
              "      <td>Dooley, Mr. Patrick</td>\n",
              "      <td>1</td>\n",
              "      <td>32.0</td>\n",
              "      <td>0</td>\n",
              "      <td>0</td>\n",
              "      <td>370376</td>\n",
              "      <td>7.7500</td>\n",
              "      <td>NaN</td>\n",
              "      <td>1</td>\n",
              "      <td>1</td>\n",
              "    </tr>\n",
              "  </tbody>\n",
              "</table>\n",
              "<p>891 rows × 13 columns</p>\n",
              "</div>\n",
              "      <button class=\"colab-df-convert\" onclick=\"convertToInteractive('df-e846098e-a3a6-47e9-b5b7-e2f385332524')\"\n",
              "              title=\"Convert this dataframe to an interactive table.\"\n",
              "              style=\"display:none;\">\n",
              "        \n",
              "  <svg xmlns=\"http://www.w3.org/2000/svg\" height=\"24px\"viewBox=\"0 0 24 24\"\n",
              "       width=\"24px\">\n",
              "    <path d=\"M0 0h24v24H0V0z\" fill=\"none\"/>\n",
              "    <path d=\"M18.56 5.44l.94 2.06.94-2.06 2.06-.94-2.06-.94-.94-2.06-.94 2.06-2.06.94zm-11 1L8.5 8.5l.94-2.06 2.06-.94-2.06-.94L8.5 2.5l-.94 2.06-2.06.94zm10 10l.94 2.06.94-2.06 2.06-.94-2.06-.94-.94-2.06-.94 2.06-2.06.94z\"/><path d=\"M17.41 7.96l-1.37-1.37c-.4-.4-.92-.59-1.43-.59-.52 0-1.04.2-1.43.59L10.3 9.45l-7.72 7.72c-.78.78-.78 2.05 0 2.83L4 21.41c.39.39.9.59 1.41.59.51 0 1.02-.2 1.41-.59l7.78-7.78 2.81-2.81c.8-.78.8-2.07 0-2.86zM5.41 20L4 18.59l7.72-7.72 1.47 1.35L5.41 20z\"/>\n",
              "  </svg>\n",
              "      </button>\n",
              "      \n",
              "  <style>\n",
              "    .colab-df-container {\n",
              "      display:flex;\n",
              "      flex-wrap:wrap;\n",
              "      gap: 12px;\n",
              "    }\n",
              "\n",
              "    .colab-df-convert {\n",
              "      background-color: #E8F0FE;\n",
              "      border: none;\n",
              "      border-radius: 50%;\n",
              "      cursor: pointer;\n",
              "      display: none;\n",
              "      fill: #1967D2;\n",
              "      height: 32px;\n",
              "      padding: 0 0 0 0;\n",
              "      width: 32px;\n",
              "    }\n",
              "\n",
              "    .colab-df-convert:hover {\n",
              "      background-color: #E2EBFA;\n",
              "      box-shadow: 0px 1px 2px rgba(60, 64, 67, 0.3), 0px 1px 3px 1px rgba(60, 64, 67, 0.15);\n",
              "      fill: #174EA6;\n",
              "    }\n",
              "\n",
              "    [theme=dark] .colab-df-convert {\n",
              "      background-color: #3B4455;\n",
              "      fill: #D2E3FC;\n",
              "    }\n",
              "\n",
              "    [theme=dark] .colab-df-convert:hover {\n",
              "      background-color: #434B5C;\n",
              "      box-shadow: 0px 1px 3px 1px rgba(0, 0, 0, 0.15);\n",
              "      filter: drop-shadow(0px 1px 2px rgba(0, 0, 0, 0.3));\n",
              "      fill: #FFFFFF;\n",
              "    }\n",
              "  </style>\n",
              "\n",
              "      <script>\n",
              "        const buttonEl =\n",
              "          document.querySelector('#df-e846098e-a3a6-47e9-b5b7-e2f385332524 button.colab-df-convert');\n",
              "        buttonEl.style.display =\n",
              "          google.colab.kernel.accessAllowed ? 'block' : 'none';\n",
              "\n",
              "        async function convertToInteractive(key) {\n",
              "          const element = document.querySelector('#df-e846098e-a3a6-47e9-b5b7-e2f385332524');\n",
              "          const dataTable =\n",
              "            await google.colab.kernel.invokeFunction('convertToInteractive',\n",
              "                                                     [key], {});\n",
              "          if (!dataTable) return;\n",
              "\n",
              "          const docLinkHtml = 'Like what you see? Visit the ' +\n",
              "            '<a target=\"_blank\" href=https://colab.research.google.com/notebooks/data_table.ipynb>data table notebook</a>'\n",
              "            + ' to learn more about interactive tables.';\n",
              "          element.innerHTML = '';\n",
              "          dataTable['output_type'] = 'display_data';\n",
              "          await google.colab.output.renderOutput(dataTable, element);\n",
              "          const docLink = document.createElement('div');\n",
              "          docLink.innerHTML = docLinkHtml;\n",
              "          element.appendChild(docLink);\n",
              "        }\n",
              "      </script>\n",
              "    </div>\n",
              "  </div>\n",
              "  "
            ]
          },
          "metadata": {},
          "execution_count": 14
        }
      ]
    },
    {
      "cell_type": "markdown",
      "source": [
        "### Missing values and syntetic features"
      ],
      "metadata": {
        "id": "I2pHiZjYm6w9"
      }
    },
    {
      "cell_type": "code",
      "source": [
        "# missing values\n",
        "null_features = df_train.isnull().sum()\n",
        "null_features = null_features[null_features != 0]\n",
        "null_features"
      ],
      "metadata": {
        "colab": {
          "base_uri": "https://localhost:8080/"
        },
        "id": "QIkDO83OoO-j",
        "outputId": "9fe30adb-7de3-4e4c-de3c-19e40b319013"
      },
      "execution_count": null,
      "outputs": [
        {
          "output_type": "execute_result",
          "data": {
            "text/plain": [
              "Age      177\n",
              "Cabin    687\n",
              "dtype: int64"
            ]
          },
          "metadata": {},
          "execution_count": 15
        }
      ]
    },
    {
      "cell_type": "code",
      "source": [
        "df_train[\"Cabin\"].head()"
      ],
      "metadata": {
        "colab": {
          "base_uri": "https://localhost:8080/"
        },
        "id": "cFIDyZT5mE6r",
        "outputId": "c6f71cf1-67cd-4a77-cd30-2946ceb7ab65"
      },
      "execution_count": null,
      "outputs": [
        {
          "output_type": "execute_result",
          "data": {
            "text/plain": [
              "0     NaN\n",
              "1     C85\n",
              "2     NaN\n",
              "3    C123\n",
              "4     NaN\n",
              "Name: Cabin, dtype: object"
            ]
          },
          "metadata": {},
          "execution_count": 16
        }
      ]
    },
    {
      "cell_type": "code",
      "source": [
        "# Dropping Cabin, PassengerId, Name and Ticket\n",
        "df_train.drop([\"Cabin\",\"PassengerId\",\"Name\",\"Ticket\"],axis=1,inplace=True)"
      ],
      "metadata": {
        "id": "oxEoXQi1mRnj"
      },
      "execution_count": null,
      "outputs": []
    },
    {
      "cell_type": "code",
      "source": [
        "# using Pclass, Parch, Fare, Sex, Survived and Title_Name to predict Age\n",
        "missing_values(df_train,'Age',['Survived', 'Pclass', 'Sex', 'Parch', 'Fare', 'Title_Name'],\n",
        "                   n_neighbors=5,weights='uniform',metric='nan_euclidean')\n",
        "    \n",
        "# using Pclass, Fare, Sex, Survived and Title_Name to predict embarked\n",
        "missing_values(df_train,'Embarked',['Survived', 'Pclass', 'Sex', 'Fare', 'Title_Name'],\n",
        "               n_neighbors=5,weights='uniform',metric='nan_euclidean', missing_values=-1)"
      ],
      "metadata": {
        "id": "8U2RtD3Dn7xy"
      },
      "execution_count": null,
      "outputs": []
    },
    {
      "cell_type": "code",
      "source": [
        "# missing values with inputed knn\n",
        "null_features = df_train.isnull().sum()\n",
        "null_features = null_features[null_features != 0]\n",
        "null_features"
      ],
      "metadata": {
        "colab": {
          "base_uri": "https://localhost:8080/"
        },
        "id": "iBVw-PVoi1_C",
        "outputId": "44f91dcc-6593-4eb9-fe1e-8975864969f7"
      },
      "execution_count": null,
      "outputs": [
        {
          "output_type": "execute_result",
          "data": {
            "text/plain": [
              "Series([], dtype: int64)"
            ]
          },
          "metadata": {},
          "execution_count": 19
        }
      ]
    },
    {
      "cell_type": "code",
      "source": [
        "# Lets building syntetic features ()\n",
        "df_train[\"SibPar\"] = df_train[\"SibSp\"]*df_train[\"Parch\"]\n",
        "    \n",
        "# Lets build a syntetic feature \n",
        "child_age = df_train[df_train.Title_Name.isin([4])][\"Age\"].quantile([0.75]).values[0]\n",
        "\n",
        "# 0 WOMAN\n",
        "cond = (df_train.Age <= child_age) | (df_train.Sex == 0)\n",
        "df_train[\"IsChildWoman\"] = cond*1"
      ],
      "metadata": {
        "id": "6NyYsKOpmXjZ"
      },
      "execution_count": null,
      "outputs": []
    },
    {
      "cell_type": "code",
      "source": [
        "child_age"
      ],
      "metadata": {
        "colab": {
          "base_uri": "https://localhost:8080/"
        },
        "id": "J2jgBL2lUxkC",
        "outputId": "10617edf-3e2d-4323-97d3-e4d5338d7ea6"
      },
      "execution_count": null,
      "outputs": [
        {
          "output_type": "execute_result",
          "data": {
            "text/plain": [
              "8.25"
            ]
          },
          "metadata": {},
          "execution_count": 21
        }
      ]
    },
    {
      "cell_type": "code",
      "source": [
        "# Final dataframe\n",
        "df_train.head()"
      ],
      "metadata": {
        "colab": {
          "base_uri": "https://localhost:8080/",
          "height": 206
        },
        "id": "PwpPe6hCpPz0",
        "outputId": "7691366c-df92-44f6-9941-d229c6c0d593"
      },
      "execution_count": null,
      "outputs": [
        {
          "output_type": "execute_result",
          "data": {
            "text/plain": [
              "   Survived  Pclass  Sex   Age  SibSp  Parch     Fare  Embarked  Title_Name  \\\n",
              "0         0       3    1  22.0      1      0   7.2500       2.0           1   \n",
              "1         1       1    0  38.0      1      0  71.2833       0.0           2   \n",
              "2         1       3    0  26.0      0      0   7.9250       2.0           3   \n",
              "3         1       1    0  35.0      1      0  53.1000       2.0           2   \n",
              "4         0       3    1  35.0      0      0   8.0500       2.0           1   \n",
              "\n",
              "   SibPar  IsChildWoman  \n",
              "0       0             0  \n",
              "1       0             1  \n",
              "2       0             1  \n",
              "3       0             1  \n",
              "4       0             0  "
            ],
            "text/html": [
              "\n",
              "  <div id=\"df-a06404c6-858a-478f-bd72-21ea92957da9\">\n",
              "    <div class=\"colab-df-container\">\n",
              "      <div>\n",
              "<style scoped>\n",
              "    .dataframe tbody tr th:only-of-type {\n",
              "        vertical-align: middle;\n",
              "    }\n",
              "\n",
              "    .dataframe tbody tr th {\n",
              "        vertical-align: top;\n",
              "    }\n",
              "\n",
              "    .dataframe thead th {\n",
              "        text-align: right;\n",
              "    }\n",
              "</style>\n",
              "<table border=\"1\" class=\"dataframe\">\n",
              "  <thead>\n",
              "    <tr style=\"text-align: right;\">\n",
              "      <th></th>\n",
              "      <th>Survived</th>\n",
              "      <th>Pclass</th>\n",
              "      <th>Sex</th>\n",
              "      <th>Age</th>\n",
              "      <th>SibSp</th>\n",
              "      <th>Parch</th>\n",
              "      <th>Fare</th>\n",
              "      <th>Embarked</th>\n",
              "      <th>Title_Name</th>\n",
              "      <th>SibPar</th>\n",
              "      <th>IsChildWoman</th>\n",
              "    </tr>\n",
              "  </thead>\n",
              "  <tbody>\n",
              "    <tr>\n",
              "      <th>0</th>\n",
              "      <td>0</td>\n",
              "      <td>3</td>\n",
              "      <td>1</td>\n",
              "      <td>22.0</td>\n",
              "      <td>1</td>\n",
              "      <td>0</td>\n",
              "      <td>7.2500</td>\n",
              "      <td>2.0</td>\n",
              "      <td>1</td>\n",
              "      <td>0</td>\n",
              "      <td>0</td>\n",
              "    </tr>\n",
              "    <tr>\n",
              "      <th>1</th>\n",
              "      <td>1</td>\n",
              "      <td>1</td>\n",
              "      <td>0</td>\n",
              "      <td>38.0</td>\n",
              "      <td>1</td>\n",
              "      <td>0</td>\n",
              "      <td>71.2833</td>\n",
              "      <td>0.0</td>\n",
              "      <td>2</td>\n",
              "      <td>0</td>\n",
              "      <td>1</td>\n",
              "    </tr>\n",
              "    <tr>\n",
              "      <th>2</th>\n",
              "      <td>1</td>\n",
              "      <td>3</td>\n",
              "      <td>0</td>\n",
              "      <td>26.0</td>\n",
              "      <td>0</td>\n",
              "      <td>0</td>\n",
              "      <td>7.9250</td>\n",
              "      <td>2.0</td>\n",
              "      <td>3</td>\n",
              "      <td>0</td>\n",
              "      <td>1</td>\n",
              "    </tr>\n",
              "    <tr>\n",
              "      <th>3</th>\n",
              "      <td>1</td>\n",
              "      <td>1</td>\n",
              "      <td>0</td>\n",
              "      <td>35.0</td>\n",
              "      <td>1</td>\n",
              "      <td>0</td>\n",
              "      <td>53.1000</td>\n",
              "      <td>2.0</td>\n",
              "      <td>2</td>\n",
              "      <td>0</td>\n",
              "      <td>1</td>\n",
              "    </tr>\n",
              "    <tr>\n",
              "      <th>4</th>\n",
              "      <td>0</td>\n",
              "      <td>3</td>\n",
              "      <td>1</td>\n",
              "      <td>35.0</td>\n",
              "      <td>0</td>\n",
              "      <td>0</td>\n",
              "      <td>8.0500</td>\n",
              "      <td>2.0</td>\n",
              "      <td>1</td>\n",
              "      <td>0</td>\n",
              "      <td>0</td>\n",
              "    </tr>\n",
              "  </tbody>\n",
              "</table>\n",
              "</div>\n",
              "      <button class=\"colab-df-convert\" onclick=\"convertToInteractive('df-a06404c6-858a-478f-bd72-21ea92957da9')\"\n",
              "              title=\"Convert this dataframe to an interactive table.\"\n",
              "              style=\"display:none;\">\n",
              "        \n",
              "  <svg xmlns=\"http://www.w3.org/2000/svg\" height=\"24px\"viewBox=\"0 0 24 24\"\n",
              "       width=\"24px\">\n",
              "    <path d=\"M0 0h24v24H0V0z\" fill=\"none\"/>\n",
              "    <path d=\"M18.56 5.44l.94 2.06.94-2.06 2.06-.94-2.06-.94-.94-2.06-.94 2.06-2.06.94zm-11 1L8.5 8.5l.94-2.06 2.06-.94-2.06-.94L8.5 2.5l-.94 2.06-2.06.94zm10 10l.94 2.06.94-2.06 2.06-.94-2.06-.94-.94-2.06-.94 2.06-2.06.94z\"/><path d=\"M17.41 7.96l-1.37-1.37c-.4-.4-.92-.59-1.43-.59-.52 0-1.04.2-1.43.59L10.3 9.45l-7.72 7.72c-.78.78-.78 2.05 0 2.83L4 21.41c.39.39.9.59 1.41.59.51 0 1.02-.2 1.41-.59l7.78-7.78 2.81-2.81c.8-.78.8-2.07 0-2.86zM5.41 20L4 18.59l7.72-7.72 1.47 1.35L5.41 20z\"/>\n",
              "  </svg>\n",
              "      </button>\n",
              "      \n",
              "  <style>\n",
              "    .colab-df-container {\n",
              "      display:flex;\n",
              "      flex-wrap:wrap;\n",
              "      gap: 12px;\n",
              "    }\n",
              "\n",
              "    .colab-df-convert {\n",
              "      background-color: #E8F0FE;\n",
              "      border: none;\n",
              "      border-radius: 50%;\n",
              "      cursor: pointer;\n",
              "      display: none;\n",
              "      fill: #1967D2;\n",
              "      height: 32px;\n",
              "      padding: 0 0 0 0;\n",
              "      width: 32px;\n",
              "    }\n",
              "\n",
              "    .colab-df-convert:hover {\n",
              "      background-color: #E2EBFA;\n",
              "      box-shadow: 0px 1px 2px rgba(60, 64, 67, 0.3), 0px 1px 3px 1px rgba(60, 64, 67, 0.15);\n",
              "      fill: #174EA6;\n",
              "    }\n",
              "\n",
              "    [theme=dark] .colab-df-convert {\n",
              "      background-color: #3B4455;\n",
              "      fill: #D2E3FC;\n",
              "    }\n",
              "\n",
              "    [theme=dark] .colab-df-convert:hover {\n",
              "      background-color: #434B5C;\n",
              "      box-shadow: 0px 1px 3px 1px rgba(0, 0, 0, 0.15);\n",
              "      filter: drop-shadow(0px 1px 2px rgba(0, 0, 0, 0.3));\n",
              "      fill: #FFFFFF;\n",
              "    }\n",
              "  </style>\n",
              "\n",
              "      <script>\n",
              "        const buttonEl =\n",
              "          document.querySelector('#df-a06404c6-858a-478f-bd72-21ea92957da9 button.colab-df-convert');\n",
              "        buttonEl.style.display =\n",
              "          google.colab.kernel.accessAllowed ? 'block' : 'none';\n",
              "\n",
              "        async function convertToInteractive(key) {\n",
              "          const element = document.querySelector('#df-a06404c6-858a-478f-bd72-21ea92957da9');\n",
              "          const dataTable =\n",
              "            await google.colab.kernel.invokeFunction('convertToInteractive',\n",
              "                                                     [key], {});\n",
              "          if (!dataTable) return;\n",
              "\n",
              "          const docLinkHtml = 'Like what you see? Visit the ' +\n",
              "            '<a target=\"_blank\" href=https://colab.research.google.com/notebooks/data_table.ipynb>data table notebook</a>'\n",
              "            + ' to learn more about interactive tables.';\n",
              "          element.innerHTML = '';\n",
              "          dataTable['output_type'] = 'display_data';\n",
              "          await google.colab.output.renderOutput(dataTable, element);\n",
              "          const docLink = document.createElement('div');\n",
              "          docLink.innerHTML = docLinkHtml;\n",
              "          element.appendChild(docLink);\n",
              "        }\n",
              "      </script>\n",
              "    </div>\n",
              "  </div>\n",
              "  "
            ]
          },
          "metadata": {},
          "execution_count": 22
        }
      ]
    },
    {
      "cell_type": "markdown",
      "source": [
        "### Data pipeline for test set "
      ],
      "metadata": {
        "id": "S0FFIV5DskCf"
      }
    },
    {
      "cell_type": "code",
      "source": [
        "def data_pipline_test(df, colsMust, codification_title):\n",
        "  \"\"\"\n",
        "  This function is a data pipeline for test data\n",
        "  \n",
        "  Args:\n",
        "      df (Pandas DataFrame): dataframe of test data\n",
        "      colsMust (set): tuple of columns must has df\n",
        "  return:\n",
        "      df (Pandas DataFrame): df transformed\n",
        "  \"\"\"\n",
        "\n",
        "  # Condification of title name of each person\n",
        "  df_transform_name(df,codification_title)\n",
        "\n",
        "  # Lets building syntetic features\n",
        "  df[\"SibPar\"] = df[\"SibSp\"]*df[\"Parch\"]\n",
        "  child_age = df[df.Title_Name.isin([4])][\"Age\"].quantile([0.75]).values[0]\n",
        "  # 0 WOMAN\n",
        "  cond = (df.Age <= child_age) | (df.Sex == 0)\n",
        "  df[\"IsChildWoman\"] = cond*1\n",
        "\n",
        "  # lets cast object columns to categorical\n",
        "  object_to_categorical_or_numerical(df, \"Sex\")\n",
        "  object_to_categorical_or_numerical(df, \"Embarked\") \n",
        "\n",
        "  # Dropping Cabin, PassengerId, Name and Ticket\n",
        "  df.drop([\"Cabin\",\"PassengerId\",\"Name\",\"Ticket\"],axis=1,inplace=True)\n",
        "\n",
        "  assert set(df.columns) == colsMust, \"colMust does not have the same columns as df\""
      ],
      "metadata": {
        "id": "zYXXCXSrsn9k"
      },
      "execution_count": null,
      "outputs": []
    },
    {
      "cell_type": "code",
      "source": [
        "df_test = pd.read_csv(dataPath+\"test.csv\",encoding=\"latin-1\",low_memory=False)\n",
        "sunmission = pd.read_csv(dataPath+\"gender_submission.csv\",encoding=\"latin-1\",low_memory=False)\n",
        "df_test = df_test.merge(sunmission, how = \"inner\", on = \"PassengerId\")\n",
        "df_test.head()"
      ],
      "metadata": {
        "colab": {
          "base_uri": "https://localhost:8080/",
          "height": 250
        },
        "id": "0NNgDKyNyg9h",
        "outputId": "5fa9f1ea-c7d0-4f14-8707-09ac074699f1"
      },
      "execution_count": null,
      "outputs": [
        {
          "output_type": "execute_result",
          "data": {
            "text/plain": [
              "   PassengerId  Pclass                                          Name     Sex  \\\n",
              "0          892       3                              Kelly, Mr. James    male   \n",
              "1          893       3              Wilkes, Mrs. James (Ellen Needs)  female   \n",
              "2          894       2                     Myles, Mr. Thomas Francis    male   \n",
              "3          895       3                              Wirz, Mr. Albert    male   \n",
              "4          896       3  Hirvonen, Mrs. Alexander (Helga E Lindqvist)  female   \n",
              "\n",
              "    Age  SibSp  Parch   Ticket     Fare Cabin Embarked  Survived  \n",
              "0  34.5      0      0   330911   7.8292   NaN        Q         0  \n",
              "1  47.0      1      0   363272   7.0000   NaN        S         1  \n",
              "2  62.0      0      0   240276   9.6875   NaN        Q         0  \n",
              "3  27.0      0      0   315154   8.6625   NaN        S         0  \n",
              "4  22.0      1      1  3101298  12.2875   NaN        S         1  "
            ],
            "text/html": [
              "\n",
              "  <div id=\"df-407c9e3e-d0b1-4d48-b194-a3cc8a55ab8f\">\n",
              "    <div class=\"colab-df-container\">\n",
              "      <div>\n",
              "<style scoped>\n",
              "    .dataframe tbody tr th:only-of-type {\n",
              "        vertical-align: middle;\n",
              "    }\n",
              "\n",
              "    .dataframe tbody tr th {\n",
              "        vertical-align: top;\n",
              "    }\n",
              "\n",
              "    .dataframe thead th {\n",
              "        text-align: right;\n",
              "    }\n",
              "</style>\n",
              "<table border=\"1\" class=\"dataframe\">\n",
              "  <thead>\n",
              "    <tr style=\"text-align: right;\">\n",
              "      <th></th>\n",
              "      <th>PassengerId</th>\n",
              "      <th>Pclass</th>\n",
              "      <th>Name</th>\n",
              "      <th>Sex</th>\n",
              "      <th>Age</th>\n",
              "      <th>SibSp</th>\n",
              "      <th>Parch</th>\n",
              "      <th>Ticket</th>\n",
              "      <th>Fare</th>\n",
              "      <th>Cabin</th>\n",
              "      <th>Embarked</th>\n",
              "      <th>Survived</th>\n",
              "    </tr>\n",
              "  </thead>\n",
              "  <tbody>\n",
              "    <tr>\n",
              "      <th>0</th>\n",
              "      <td>892</td>\n",
              "      <td>3</td>\n",
              "      <td>Kelly, Mr. James</td>\n",
              "      <td>male</td>\n",
              "      <td>34.5</td>\n",
              "      <td>0</td>\n",
              "      <td>0</td>\n",
              "      <td>330911</td>\n",
              "      <td>7.8292</td>\n",
              "      <td>NaN</td>\n",
              "      <td>Q</td>\n",
              "      <td>0</td>\n",
              "    </tr>\n",
              "    <tr>\n",
              "      <th>1</th>\n",
              "      <td>893</td>\n",
              "      <td>3</td>\n",
              "      <td>Wilkes, Mrs. James (Ellen Needs)</td>\n",
              "      <td>female</td>\n",
              "      <td>47.0</td>\n",
              "      <td>1</td>\n",
              "      <td>0</td>\n",
              "      <td>363272</td>\n",
              "      <td>7.0000</td>\n",
              "      <td>NaN</td>\n",
              "      <td>S</td>\n",
              "      <td>1</td>\n",
              "    </tr>\n",
              "    <tr>\n",
              "      <th>2</th>\n",
              "      <td>894</td>\n",
              "      <td>2</td>\n",
              "      <td>Myles, Mr. Thomas Francis</td>\n",
              "      <td>male</td>\n",
              "      <td>62.0</td>\n",
              "      <td>0</td>\n",
              "      <td>0</td>\n",
              "      <td>240276</td>\n",
              "      <td>9.6875</td>\n",
              "      <td>NaN</td>\n",
              "      <td>Q</td>\n",
              "      <td>0</td>\n",
              "    </tr>\n",
              "    <tr>\n",
              "      <th>3</th>\n",
              "      <td>895</td>\n",
              "      <td>3</td>\n",
              "      <td>Wirz, Mr. Albert</td>\n",
              "      <td>male</td>\n",
              "      <td>27.0</td>\n",
              "      <td>0</td>\n",
              "      <td>0</td>\n",
              "      <td>315154</td>\n",
              "      <td>8.6625</td>\n",
              "      <td>NaN</td>\n",
              "      <td>S</td>\n",
              "      <td>0</td>\n",
              "    </tr>\n",
              "    <tr>\n",
              "      <th>4</th>\n",
              "      <td>896</td>\n",
              "      <td>3</td>\n",
              "      <td>Hirvonen, Mrs. Alexander (Helga E Lindqvist)</td>\n",
              "      <td>female</td>\n",
              "      <td>22.0</td>\n",
              "      <td>1</td>\n",
              "      <td>1</td>\n",
              "      <td>3101298</td>\n",
              "      <td>12.2875</td>\n",
              "      <td>NaN</td>\n",
              "      <td>S</td>\n",
              "      <td>1</td>\n",
              "    </tr>\n",
              "  </tbody>\n",
              "</table>\n",
              "</div>\n",
              "      <button class=\"colab-df-convert\" onclick=\"convertToInteractive('df-407c9e3e-d0b1-4d48-b194-a3cc8a55ab8f')\"\n",
              "              title=\"Convert this dataframe to an interactive table.\"\n",
              "              style=\"display:none;\">\n",
              "        \n",
              "  <svg xmlns=\"http://www.w3.org/2000/svg\" height=\"24px\"viewBox=\"0 0 24 24\"\n",
              "       width=\"24px\">\n",
              "    <path d=\"M0 0h24v24H0V0z\" fill=\"none\"/>\n",
              "    <path d=\"M18.56 5.44l.94 2.06.94-2.06 2.06-.94-2.06-.94-.94-2.06-.94 2.06-2.06.94zm-11 1L8.5 8.5l.94-2.06 2.06-.94-2.06-.94L8.5 2.5l-.94 2.06-2.06.94zm10 10l.94 2.06.94-2.06 2.06-.94-2.06-.94-.94-2.06-.94 2.06-2.06.94z\"/><path d=\"M17.41 7.96l-1.37-1.37c-.4-.4-.92-.59-1.43-.59-.52 0-1.04.2-1.43.59L10.3 9.45l-7.72 7.72c-.78.78-.78 2.05 0 2.83L4 21.41c.39.39.9.59 1.41.59.51 0 1.02-.2 1.41-.59l7.78-7.78 2.81-2.81c.8-.78.8-2.07 0-2.86zM5.41 20L4 18.59l7.72-7.72 1.47 1.35L5.41 20z\"/>\n",
              "  </svg>\n",
              "      </button>\n",
              "      \n",
              "  <style>\n",
              "    .colab-df-container {\n",
              "      display:flex;\n",
              "      flex-wrap:wrap;\n",
              "      gap: 12px;\n",
              "    }\n",
              "\n",
              "    .colab-df-convert {\n",
              "      background-color: #E8F0FE;\n",
              "      border: none;\n",
              "      border-radius: 50%;\n",
              "      cursor: pointer;\n",
              "      display: none;\n",
              "      fill: #1967D2;\n",
              "      height: 32px;\n",
              "      padding: 0 0 0 0;\n",
              "      width: 32px;\n",
              "    }\n",
              "\n",
              "    .colab-df-convert:hover {\n",
              "      background-color: #E2EBFA;\n",
              "      box-shadow: 0px 1px 2px rgba(60, 64, 67, 0.3), 0px 1px 3px 1px rgba(60, 64, 67, 0.15);\n",
              "      fill: #174EA6;\n",
              "    }\n",
              "\n",
              "    [theme=dark] .colab-df-convert {\n",
              "      background-color: #3B4455;\n",
              "      fill: #D2E3FC;\n",
              "    }\n",
              "\n",
              "    [theme=dark] .colab-df-convert:hover {\n",
              "      background-color: #434B5C;\n",
              "      box-shadow: 0px 1px 3px 1px rgba(0, 0, 0, 0.15);\n",
              "      filter: drop-shadow(0px 1px 2px rgba(0, 0, 0, 0.3));\n",
              "      fill: #FFFFFF;\n",
              "    }\n",
              "  </style>\n",
              "\n",
              "      <script>\n",
              "        const buttonEl =\n",
              "          document.querySelector('#df-407c9e3e-d0b1-4d48-b194-a3cc8a55ab8f button.colab-df-convert');\n",
              "        buttonEl.style.display =\n",
              "          google.colab.kernel.accessAllowed ? 'block' : 'none';\n",
              "\n",
              "        async function convertToInteractive(key) {\n",
              "          const element = document.querySelector('#df-407c9e3e-d0b1-4d48-b194-a3cc8a55ab8f');\n",
              "          const dataTable =\n",
              "            await google.colab.kernel.invokeFunction('convertToInteractive',\n",
              "                                                     [key], {});\n",
              "          if (!dataTable) return;\n",
              "\n",
              "          const docLinkHtml = 'Like what you see? Visit the ' +\n",
              "            '<a target=\"_blank\" href=https://colab.research.google.com/notebooks/data_table.ipynb>data table notebook</a>'\n",
              "            + ' to learn more about interactive tables.';\n",
              "          element.innerHTML = '';\n",
              "          dataTable['output_type'] = 'display_data';\n",
              "          await google.colab.output.renderOutput(dataTable, element);\n",
              "          const docLink = document.createElement('div');\n",
              "          docLink.innerHTML = docLinkHtml;\n",
              "          element.appendChild(docLink);\n",
              "        }\n",
              "      </script>\n",
              "    </div>\n",
              "  </div>\n",
              "  "
            ]
          },
          "metadata": {},
          "execution_count": 24
        }
      ]
    },
    {
      "cell_type": "code",
      "source": [
        "# Forward to data pipeline\n",
        "colsMust = set(df_train.columns)\n",
        "data_pipline_test(df_test, colsMust, codification_title)\n",
        "df_test.head()"
      ],
      "metadata": {
        "colab": {
          "base_uri": "https://localhost:8080/",
          "height": 206
        },
        "id": "XZ4KrmpUzc0V",
        "outputId": "8755cff4-07fb-4ff4-ec8a-7b3dd90b58d5"
      },
      "execution_count": null,
      "outputs": [
        {
          "output_type": "execute_result",
          "data": {
            "text/plain": [
              "   Pclass  Sex   Age  SibSp  Parch     Fare  Embarked  Survived  Title_Name  \\\n",
              "0       3    1  34.5      0      0   7.8292         1         0           1   \n",
              "1       3    0  47.0      1      0   7.0000         2         1           2   \n",
              "2       2    1  62.0      0      0   9.6875         1         0           1   \n",
              "3       3    1  27.0      0      0   8.6625         2         0           1   \n",
              "4       3    0  22.0      1      1  12.2875         2         1           2   \n",
              "\n",
              "   SibPar  IsChildWoman  \n",
              "0       0             0  \n",
              "1       0             0  \n",
              "2       0             0  \n",
              "3       0             0  \n",
              "4       1             0  "
            ],
            "text/html": [
              "\n",
              "  <div id=\"df-702612dd-39bc-4b49-9037-96f50cf3b2f6\">\n",
              "    <div class=\"colab-df-container\">\n",
              "      <div>\n",
              "<style scoped>\n",
              "    .dataframe tbody tr th:only-of-type {\n",
              "        vertical-align: middle;\n",
              "    }\n",
              "\n",
              "    .dataframe tbody tr th {\n",
              "        vertical-align: top;\n",
              "    }\n",
              "\n",
              "    .dataframe thead th {\n",
              "        text-align: right;\n",
              "    }\n",
              "</style>\n",
              "<table border=\"1\" class=\"dataframe\">\n",
              "  <thead>\n",
              "    <tr style=\"text-align: right;\">\n",
              "      <th></th>\n",
              "      <th>Pclass</th>\n",
              "      <th>Sex</th>\n",
              "      <th>Age</th>\n",
              "      <th>SibSp</th>\n",
              "      <th>Parch</th>\n",
              "      <th>Fare</th>\n",
              "      <th>Embarked</th>\n",
              "      <th>Survived</th>\n",
              "      <th>Title_Name</th>\n",
              "      <th>SibPar</th>\n",
              "      <th>IsChildWoman</th>\n",
              "    </tr>\n",
              "  </thead>\n",
              "  <tbody>\n",
              "    <tr>\n",
              "      <th>0</th>\n",
              "      <td>3</td>\n",
              "      <td>1</td>\n",
              "      <td>34.5</td>\n",
              "      <td>0</td>\n",
              "      <td>0</td>\n",
              "      <td>7.8292</td>\n",
              "      <td>1</td>\n",
              "      <td>0</td>\n",
              "      <td>1</td>\n",
              "      <td>0</td>\n",
              "      <td>0</td>\n",
              "    </tr>\n",
              "    <tr>\n",
              "      <th>1</th>\n",
              "      <td>3</td>\n",
              "      <td>0</td>\n",
              "      <td>47.0</td>\n",
              "      <td>1</td>\n",
              "      <td>0</td>\n",
              "      <td>7.0000</td>\n",
              "      <td>2</td>\n",
              "      <td>1</td>\n",
              "      <td>2</td>\n",
              "      <td>0</td>\n",
              "      <td>0</td>\n",
              "    </tr>\n",
              "    <tr>\n",
              "      <th>2</th>\n",
              "      <td>2</td>\n",
              "      <td>1</td>\n",
              "      <td>62.0</td>\n",
              "      <td>0</td>\n",
              "      <td>0</td>\n",
              "      <td>9.6875</td>\n",
              "      <td>1</td>\n",
              "      <td>0</td>\n",
              "      <td>1</td>\n",
              "      <td>0</td>\n",
              "      <td>0</td>\n",
              "    </tr>\n",
              "    <tr>\n",
              "      <th>3</th>\n",
              "      <td>3</td>\n",
              "      <td>1</td>\n",
              "      <td>27.0</td>\n",
              "      <td>0</td>\n",
              "      <td>0</td>\n",
              "      <td>8.6625</td>\n",
              "      <td>2</td>\n",
              "      <td>0</td>\n",
              "      <td>1</td>\n",
              "      <td>0</td>\n",
              "      <td>0</td>\n",
              "    </tr>\n",
              "    <tr>\n",
              "      <th>4</th>\n",
              "      <td>3</td>\n",
              "      <td>0</td>\n",
              "      <td>22.0</td>\n",
              "      <td>1</td>\n",
              "      <td>1</td>\n",
              "      <td>12.2875</td>\n",
              "      <td>2</td>\n",
              "      <td>1</td>\n",
              "      <td>2</td>\n",
              "      <td>1</td>\n",
              "      <td>0</td>\n",
              "    </tr>\n",
              "  </tbody>\n",
              "</table>\n",
              "</div>\n",
              "      <button class=\"colab-df-convert\" onclick=\"convertToInteractive('df-702612dd-39bc-4b49-9037-96f50cf3b2f6')\"\n",
              "              title=\"Convert this dataframe to an interactive table.\"\n",
              "              style=\"display:none;\">\n",
              "        \n",
              "  <svg xmlns=\"http://www.w3.org/2000/svg\" height=\"24px\"viewBox=\"0 0 24 24\"\n",
              "       width=\"24px\">\n",
              "    <path d=\"M0 0h24v24H0V0z\" fill=\"none\"/>\n",
              "    <path d=\"M18.56 5.44l.94 2.06.94-2.06 2.06-.94-2.06-.94-.94-2.06-.94 2.06-2.06.94zm-11 1L8.5 8.5l.94-2.06 2.06-.94-2.06-.94L8.5 2.5l-.94 2.06-2.06.94zm10 10l.94 2.06.94-2.06 2.06-.94-2.06-.94-.94-2.06-.94 2.06-2.06.94z\"/><path d=\"M17.41 7.96l-1.37-1.37c-.4-.4-.92-.59-1.43-.59-.52 0-1.04.2-1.43.59L10.3 9.45l-7.72 7.72c-.78.78-.78 2.05 0 2.83L4 21.41c.39.39.9.59 1.41.59.51 0 1.02-.2 1.41-.59l7.78-7.78 2.81-2.81c.8-.78.8-2.07 0-2.86zM5.41 20L4 18.59l7.72-7.72 1.47 1.35L5.41 20z\"/>\n",
              "  </svg>\n",
              "      </button>\n",
              "      \n",
              "  <style>\n",
              "    .colab-df-container {\n",
              "      display:flex;\n",
              "      flex-wrap:wrap;\n",
              "      gap: 12px;\n",
              "    }\n",
              "\n",
              "    .colab-df-convert {\n",
              "      background-color: #E8F0FE;\n",
              "      border: none;\n",
              "      border-radius: 50%;\n",
              "      cursor: pointer;\n",
              "      display: none;\n",
              "      fill: #1967D2;\n",
              "      height: 32px;\n",
              "      padding: 0 0 0 0;\n",
              "      width: 32px;\n",
              "    }\n",
              "\n",
              "    .colab-df-convert:hover {\n",
              "      background-color: #E2EBFA;\n",
              "      box-shadow: 0px 1px 2px rgba(60, 64, 67, 0.3), 0px 1px 3px 1px rgba(60, 64, 67, 0.15);\n",
              "      fill: #174EA6;\n",
              "    }\n",
              "\n",
              "    [theme=dark] .colab-df-convert {\n",
              "      background-color: #3B4455;\n",
              "      fill: #D2E3FC;\n",
              "    }\n",
              "\n",
              "    [theme=dark] .colab-df-convert:hover {\n",
              "      background-color: #434B5C;\n",
              "      box-shadow: 0px 1px 3px 1px rgba(0, 0, 0, 0.15);\n",
              "      filter: drop-shadow(0px 1px 2px rgba(0, 0, 0, 0.3));\n",
              "      fill: #FFFFFF;\n",
              "    }\n",
              "  </style>\n",
              "\n",
              "      <script>\n",
              "        const buttonEl =\n",
              "          document.querySelector('#df-702612dd-39bc-4b49-9037-96f50cf3b2f6 button.colab-df-convert');\n",
              "        buttonEl.style.display =\n",
              "          google.colab.kernel.accessAllowed ? 'block' : 'none';\n",
              "\n",
              "        async function convertToInteractive(key) {\n",
              "          const element = document.querySelector('#df-702612dd-39bc-4b49-9037-96f50cf3b2f6');\n",
              "          const dataTable =\n",
              "            await google.colab.kernel.invokeFunction('convertToInteractive',\n",
              "                                                     [key], {});\n",
              "          if (!dataTable) return;\n",
              "\n",
              "          const docLinkHtml = 'Like what you see? Visit the ' +\n",
              "            '<a target=\"_blank\" href=https://colab.research.google.com/notebooks/data_table.ipynb>data table notebook</a>'\n",
              "            + ' to learn more about interactive tables.';\n",
              "          element.innerHTML = '';\n",
              "          dataTable['output_type'] = 'display_data';\n",
              "          await google.colab.output.renderOutput(dataTable, element);\n",
              "          const docLink = document.createElement('div');\n",
              "          docLink.innerHTML = docLinkHtml;\n",
              "          element.appendChild(docLink);\n",
              "        }\n",
              "      </script>\n",
              "    </div>\n",
              "  </div>\n",
              "  "
            ]
          },
          "metadata": {},
          "execution_count": 25
        }
      ]
    },
    {
      "cell_type": "markdown",
      "source": [
        "## Machine Learning (Random Forest)"
      ],
      "metadata": {
        "id": "J14fpJjO0-3_"
      }
    },
    {
      "cell_type": "code",
      "source": [
        "# Importing libraries for machine learning\n",
        "from sklearn.tree import DecisionTreeClassifier, plot_tree\n",
        "from sklearn.model_selection import train_test_split\n",
        "from sklearn.inspection import plot_partial_dependence\n",
        "from sklearn.ensemble import RandomForestClassifier\n",
        "from sklearn.metrics import confusion_matrix\n",
        "from scipy.spatial.distance import pdist\n",
        "from scipy.cluster.hierarchy import linkage, dendrogram\n",
        "import matplotlib.pyplot as plt"
      ],
      "metadata": {
        "id": "MDpzrOvJ1DCz"
      },
      "execution_count": null,
      "outputs": []
    },
    {
      "cell_type": "markdown",
      "source": [
        "### Splitting the data"
      ],
      "metadata": {
        "id": "TEo-alV-4ZNl"
      }
    },
    {
      "cell_type": "code",
      "source": [
        "x_data, y_data = df_train.drop([\"Survived\"],axis=1), df_train[\"Survived\"] "
      ],
      "metadata": {
        "id": "FJGLNWfD36NI"
      },
      "execution_count": null,
      "outputs": []
    },
    {
      "cell_type": "code",
      "source": [
        "# Split train and validation set (20% of validation)\n",
        "test_size = 0.2\n",
        "random_state = 643\n",
        "x_train, x_val, y_train, y_val = train_test_split(x_data,y_data, \n",
        "                                                  test_size = test_size,\n",
        "                                                  random_state = random_state)"
      ],
      "metadata": {
        "id": "qmcbKSID4M_t"
      },
      "execution_count": null,
      "outputs": []
    },
    {
      "cell_type": "code",
      "source": [
        "df_test.isnull().sum()"
      ],
      "metadata": {
        "colab": {
          "base_uri": "https://localhost:8080/"
        },
        "id": "74XFrNMX_nWQ",
        "outputId": "ab6e3c4b-c33d-4f63-c536-3e72ced3e21d"
      },
      "execution_count": null,
      "outputs": [
        {
          "output_type": "execute_result",
          "data": {
            "text/plain": [
              "Pclass           0\n",
              "Sex              0\n",
              "Age             86\n",
              "SibSp            0\n",
              "Parch            0\n",
              "Fare             1\n",
              "Embarked         0\n",
              "Survived         0\n",
              "Title_Name       0\n",
              "SibPar           0\n",
              "IsChildWoman     0\n",
              "dtype: int64"
            ]
          },
          "metadata": {},
          "execution_count": 29
        }
      ]
    },
    {
      "cell_type": "code",
      "source": [
        "df_test.dropna(inplace = True)"
      ],
      "metadata": {
        "id": "NoJR7pk1_Vum"
      },
      "execution_count": null,
      "outputs": []
    },
    {
      "cell_type": "code",
      "source": [
        "x_test, y_test = df_test.drop([\"Survived\"],axis=1), df_test[\"Survived\"] "
      ],
      "metadata": {
        "id": "y9-Mewzy4eYn"
      },
      "execution_count": null,
      "outputs": []
    },
    {
      "cell_type": "markdown",
      "source": [
        "### Functions for Machine Learning"
      ],
      "metadata": {
        "id": "238iPwuG14O8"
      }
    },
    {
      "cell_type": "code",
      "source": [
        "def accuracy(model,x,y):\n",
        "    \"\"\"\n",
        "    Function to compute accuracy\n",
        "    \"\"\"\n",
        "    y_pred = model.predict(x)\n",
        "    return (y_pred==y).mean()"
      ],
      "metadata": {
        "id": "ioBOEXFs13uE"
      },
      "execution_count": null,
      "outputs": []
    },
    {
      "cell_type": "code",
      "source": [
        "def random_forest(x,y,\n",
        "                  n_estimators=60, max_samples = 100,max_features=0.5,\n",
        "                  min_samples_leaf=3,oob_score=True,n_jobs=-1,**kwargs):\n",
        "  \n",
        "    \"\"\"\n",
        "    Function to define and train a random forest classifier\n",
        "    \"\"\"  \n",
        "    return RandomForestClassifier(n_estimators=n_estimators, \n",
        "                                    max_samples=max_samples,max_features=max_features,\n",
        "                                    min_samples_leaf=min_samples_leaf,oob_score=oob_score,\n",
        "                                    n_jobs=n_jobs,**kwargs).fit(x,y)"
      ],
      "metadata": {
        "id": "9h0XsECR2BPD"
      },
      "execution_count": null,
      "outputs": []
    },
    {
      "cell_type": "code",
      "source": [
        "def f_importances_model(model,df):\n",
        "    \"\"\"\n",
        "    Function to get importance features of a random forest classifier\n",
        "    \"\"\"\n",
        "    return pd.DataFrame({\"cols\":df.columns,\"imp\":model.feature_importances_}\n",
        "                                ).sort_values(\"imp\",ascending=False)  "
      ],
      "metadata": {
        "id": "d9QuafnU2D-9"
      },
      "execution_count": null,
      "outputs": []
    },
    {
      "cell_type": "code",
      "source": [
        "def plot_f_importance_model(fi,title,figsize=(12,7),save=False,**kwargs):\n",
        "    \"\"\"\n",
        "    Function to plot the importance features\n",
        "    \"\"\"\n",
        "    fig, ax = plt.subplots(figsize=figsize)\n",
        "    ax.set_ylabel(\"Columns\")\n",
        "    ax.set_xlabel(\"Importance\")\n",
        "    fig.suptitle(title)\n",
        "    ax.barh(fi[\"cols\"],fi[\"imp\"],**kwargs)\n",
        "    if save:\n",
        "        plt.savefig('./reports/{}.png'.format(title), dpi = 300)"
      ],
      "metadata": {
        "id": "UJsWgKwU2KIx"
      },
      "execution_count": null,
      "outputs": []
    },
    {
      "cell_type": "code",
      "source": [
        "def plot_tree_(Decission_Tree1,feature_names,figsize,max_depth=7,precision=2,save=False,**kwargs):\n",
        "    \"\"\"\n",
        "    Function to plot a tree\n",
        "    \"\"\"\n",
        "    fig, ax = plt.subplots(figsize=figsize)\n",
        "    plot_tree(Decission_Tree1,feature_names=feature_names,max_depth=7,precision=2,ax=ax,**kwargs)\n",
        "    if save:\n",
        "        plt.savefig('./reports/Decission_tree.png', dpi = 300)"
      ],
      "metadata": {
        "id": "2ohy9DHy2Npr"
      },
      "execution_count": null,
      "outputs": []
    },
    {
      "cell_type": "code",
      "source": [
        "def get_oob(x,y):\n",
        "    model = RandomForestClassifier(n_estimators=60,\n",
        "                                    max_samples=100,max_features=0.5,\n",
        "                                    min_samples_leaf=3,oob_score=True,n_jobs=-1)\n",
        "    \n",
        "    \"\"\"\n",
        "    Function to get a oob score of random forest naive\n",
        "    \"\"\"\n",
        "    model.fit(x,y)\n",
        "    return round(model.oob_score_, 2)"
      ],
      "metadata": {
        "id": "a74lUPi32QPg"
      },
      "execution_count": null,
      "outputs": []
    },
    {
      "cell_type": "code",
      "source": [
        "def getDendrogram(x,title,figsize=(12,7),metric='correlation',method='complete',orientation=\"left\",save=False,**kwargs):\n",
        "    \"\"\"\n",
        "    Functions to get a dendogram\n",
        "    \"\"\"\n",
        "    x_t = x.T\n",
        "    c_dist = pdist(x_t) # compute the distance\n",
        "    c_link = linkage(x_t,  metric='correlation', method='complete')# computing the linkage\n",
        "    fig, ax = plt.subplots(figsize=figsize)\n",
        "    fig.suptitle(title)\n",
        "    dendrogram(c_link,labels=list(x_train_Parch.columns),orientation=\"left\",ax=ax,**kwargs)\n",
        "    if save:\n",
        "        plt.savefig('./reports/Dendogram_{}.png'.format(title), dpi = 300)"
      ],
      "metadata": {
        "id": "aKDY2iIV2SdA"
      },
      "execution_count": null,
      "outputs": []
    },
    {
      "cell_type": "code",
      "source": [
        "def plot_partial_dependence_(model,title,x,features,figsize=(12,7),save=False,**kwargs):\n",
        "    \"\"\"\n",
        "    Function to plot partial dependences\n",
        "    \"\"\"\n",
        "    fig, ax = plt.subplots(figsize=figsize)\n",
        "    plot_partial_dependence(model,x,features,grid_resolution=20,ax=ax,**kwargs)\n",
        "    fig.suptitle(title)\n",
        "    if save:\n",
        "        plt.savefig('./reports/partial_dependence_{}.png'.format(title), dpi = 300)"
      ],
      "metadata": {
        "id": "zAn_4yhQ2UkA"
      },
      "execution_count": null,
      "outputs": []
    },
    {
      "cell_type": "markdown",
      "source": [
        "### Decission Tree "
      ],
      "metadata": {
        "id": "TAFuEj5N3vOi"
      }
    },
    {
      "cell_type": "code",
      "source": [
        "# Lets train and evaluate the first Decision Tree \n",
        "Decission_Tree1 = DecisionTreeClassifier(max_leaf_nodes=7)\n",
        "Decission_Tree1.fit(x_train,y_train)\n",
        "    \n",
        "# Visualization of the first desicion tree\n",
        "feature_names = x_train.columns\n",
        "figsize=(12,7)\n",
        "plot_tree_(Decission_Tree1,feature_names,figsize,save=False)\n",
        "    \n",
        "accT_DT_1 = accuracy(Decission_Tree1,x_train,y_train)\n",
        "accV_DT_1 = accuracy(Decission_Tree1,x_val,y_val)\n",
        "print(\"Decission Tree 1 : Train ACCU : {:.3f}\".format(accT_DT_1))\n",
        "print(\"Decission Tree 1 : Valid ACCU : {:.2f}\".format(accV_DT_1))    "
      ],
      "metadata": {
        "colab": {
          "base_uri": "https://localhost:8080/",
          "height": 448
        },
        "id": "O8AS9joa34js",
        "outputId": "89326e02-3762-4159-f419-815acd760e5a"
      },
      "execution_count": null,
      "outputs": [
        {
          "output_type": "stream",
          "name": "stdout",
          "text": [
            "Decission Tree 1 : Train ACCU : 0.844\n",
            "Decission Tree 1 : Valid ACCU : 0.82\n"
          ]
        },
        {
          "output_type": "display_data",
          "data": {
            "text/plain": [
              "<Figure size 864x504 with 1 Axes>"
            ],
            "image/png": "[encoded data removed]"
          },
          "metadata": {
            "needs_background": "light"
          }
        }
      ]
    },
    {
      "cell_type": "markdown",
      "source": [
        "### First Random Forest"
      ],
      "metadata": {
        "id": "iW1z5rQ05NwP"
      }
    },
    {
      "cell_type": "code",
      "source": [
        "# Lets Train and evaluate the first random forest\n",
        "max_samples = int(len(y_train)*0.7)\n",
        "Random_Forest1 = random_forest(x_train,y_train,max_samples=max_samples,class_weight=\"balanced_subsample\")\n",
        "    \n",
        "accT_RF_1 = accuracy(Random_Forest1,x_train,y_train)\n",
        "accV_RF_1 = accuracy(Random_Forest1,x_val,y_val)\n",
        "print(\"Random Forest 1 : Train ACCU : {:.3f}\".format(accT_RF_1))\n",
        "print(\"Random Forest 1 : Valid ACCU : {:.3f}\".format(accV_RF_1))"
      ],
      "metadata": {
        "colab": {
          "base_uri": "https://localhost:8080/"
        },
        "id": "7ARNlC_x5-pb",
        "outputId": "aa016800-9548-4ee9-b243-161ae8c440e5"
      },
      "execution_count": null,
      "outputs": [
        {
          "output_type": "stream",
          "name": "stdout",
          "text": [
            "Random Forest 1 : Train ACCU : 0.907\n",
            "Random Forest 1 : Valid ACCU : 0.821\n"
          ]
        }
      ]
    },
    {
      "cell_type": "code",
      "source": [
        "# Feature importance\n",
        "f_importance_rf1 = f_importances_model(Random_Forest1, x_train)\n",
        "f_importance_rf1    \n",
        "    \n",
        "# plot the importance features of Random Forest 1\n",
        "title = \"Feature_importance-RF1\"\n",
        "plot_f_importance_model(f_importance_rf1,title,save=False)"
      ],
      "metadata": {
        "colab": {
          "base_uri": "https://localhost:8080/",
          "height": 493
        },
        "id": "_pImhYkc6J2n",
        "outputId": "4c5b1708-ed76-4387-82c7-317134375990"
      },
      "execution_count": null,
      "outputs": [
        {
          "output_type": "display_data",
          "data": {
            "text/plain": [
              "<Figure size 864x504 with 1 Axes>"
            ],
            "image/png": "[encoded data removed]"
          },
          "metadata": {
            "needs_background": "light"
          }
        }
      ]
    },
    {
      "cell_type": "code",
      "source": [
        "# Lets remove low important features\n",
        "# As it can see, Parch feature has 0.008801 of importance, in relation \n",
        "# with the other features, it is low value, we drop it. \n",
        "x_train_Parch = x_train.drop([\"Parch\"],axis=1)\n",
        "x_val_Parch = x_val.drop([\"Parch\"],axis=1)"
      ],
      "metadata": {
        "id": "8jHl1Hmz6hYy"
      },
      "execution_count": null,
      "outputs": []
    },
    {
      "cell_type": "markdown",
      "source": [
        "### Second Random Forest"
      ],
      "metadata": {
        "id": "JWPl1JZB6olm"
      }
    },
    {
      "cell_type": "code",
      "source": [
        "# Lets Train and evaluate the second random forest\n",
        "Random_Forest2 = random_forest(x_train_Parch,y_train,max_samples=max_samples,class_weight=\"balanced_subsample\")\n",
        "    \n",
        "accT_RF_2 = accuracy(Random_Forest2,x_train_Parch,y_train)\n",
        "accV_RF_2 = accuracy(Random_Forest2,x_val_Parch,y_val)\n",
        "print(\"Random Forest 2 : Train ACCU : {:.3f}\".format(accT_RF_2))\n",
        "print(\"Random Forest 2 : Valid ACCU : {:.3f}\".format(accV_RF_2))"
      ],
      "metadata": {
        "colab": {
          "base_uri": "https://localhost:8080/"
        },
        "id": "nMymTjSf6sVw",
        "outputId": "3de5c222-6c88-4d82-8846-74888d8da29b"
      },
      "execution_count": null,
      "outputs": [
        {
          "output_type": "stream",
          "name": "stdout",
          "text": [
            "Random Forest 2 : Train ACCU : 0.907\n",
            "Random Forest 2 : Valid ACCU : 0.827\n"
          ]
        }
      ]
    },
    {
      "cell_type": "code",
      "source": [
        "# Check the importance features\n",
        "f_importance_rf2 = f_importances_model(Random_Forest2, x_train_Parch)\n",
        "f_importance_rf2    \n",
        "    \n",
        "# plot the importance features of random forest 2\n",
        "title = \"Feature_importance-RF2\"\n",
        "plot_f_importance_model(f_importance_rf2,title,save=False)"
      ],
      "metadata": {
        "colab": {
          "base_uri": "https://localhost:8080/",
          "height": 493
        },
        "id": "9QUWv6Is62Kh",
        "outputId": "2974011e-d4d3-488f-eb6c-22fdde5a4b3a"
      },
      "execution_count": null,
      "outputs": [
        {
          "output_type": "display_data",
          "data": {
            "text/plain": [
              "<Figure size 864x504 with 1 Axes>"
            ],
            "image/png": "[encoded data removed]"
          },
          "metadata": {
            "needs_background": "light"
          }
        }
      ]
    },
    {
      "cell_type": "markdown",
      "source": [
        "### Dendogram of training data"
      ],
      "metadata": {
        "id": "OGRNWPR77Dkr"
      }
    },
    {
      "cell_type": "code",
      "source": [
        "# Lets remove Redundant Features\n",
        "title = \"Dendogram-RF2\"\n",
        "getDendrogram(x_train_Parch,title,save=False)"
      ],
      "metadata": {
        "colab": {
          "base_uri": "https://localhost:8080/",
          "height": 479
        },
        "id": "LHDqQ64U7Iu8",
        "outputId": "26a066da-205c-473a-bcdf-e926847e02b9"
      },
      "execution_count": null,
      "outputs": [
        {
          "output_type": "display_data",
          "data": {
            "text/plain": [
              "<Figure size 864x504 with 1 Axes>"
            ],
            "image/png": "[encoded data removed]"
          },
          "metadata": {
            "needs_background": "light"
          }
        }
      ]
    },
    {
      "cell_type": "code",
      "source": [
        "# Lets check out SibPar and SibSp and their effect in performance\n",
        "origin = get_oob(x_train, y_train)\n",
        "print(\"Random Forest 2 : oob score - Full features : {}\".format(origin))\n",
        "\n",
        "# get oob score erasing SibPar and SibSp\n",
        "obb_scores = {\"obb score without \" + col:get_oob(x_train.drop(col,axis=1)\n",
        "              , y_train) for col in (\"SibPar\",\"SibSp\")}\n",
        "print(obb_scores)"
      ],
      "metadata": {
        "colab": {
          "base_uri": "https://localhost:8080/"
        },
        "id": "EE9KnLmw7Qb4",
        "outputId": "d14a8874-f46d-4105-e174-7d59bf094599"
      },
      "execution_count": null,
      "outputs": [
        {
          "output_type": "stream",
          "name": "stdout",
          "text": [
            "Random Forest 2 : oob score - Full features : 0.83\n",
            "{'obb score without SibPar': 0.82, 'obb score without SibSp': 0.83}\n"
          ]
        }
      ]
    },
    {
      "cell_type": "code",
      "source": [
        "# removing SibSp, it almost has the same performance.\n",
        "x_train_SibPar =  x_train.drop([\"SibSp\"],axis=1)\n",
        "x_val_SibPar = x_val.drop([\"SibSp\"],axis=1)"
      ],
      "metadata": {
        "id": "2vuJp3uX7mg-"
      },
      "execution_count": null,
      "outputs": []
    },
    {
      "cell_type": "markdown",
      "source": [
        "### Third Random Forest"
      ],
      "metadata": {
        "id": "CkIlkbze71FP"
      }
    },
    {
      "cell_type": "code",
      "source": [
        "# Lets Train and evaluate the third random forest\n",
        "Random_Forest3 = random_forest(x_train_SibPar,y_train,max_samples=max_samples\n",
        "                              ,class_weight=\"balanced_subsample\")\n",
        "    \n",
        "accT_RF_3 = accuracy(Random_Forest3,x_train_SibPar,y_train)\n",
        "accV_RF_3 = accuracy(Random_Forest3,x_val_SibPar,y_val)\n",
        "print(\"Random Forest 3 : Train ACCU : {:.3f}\".format(accT_RF_3))\n",
        "print(\"Random Forest 3 : Valid ACCU : {:.3f}\".format(accV_RF_3))"
      ],
      "metadata": {
        "colab": {
          "base_uri": "https://localhost:8080/"
        },
        "id": "h1O6mI_l77a_",
        "outputId": "4ba10474-f910-4e63-e962-42c09e79dd68"
      },
      "execution_count": null,
      "outputs": [
        {
          "output_type": "stream",
          "name": "stdout",
          "text": [
            "Random Forest 3 : Train ACCU : 0.907\n",
            "Random Forest 3 : Valid ACCU : 0.838\n"
          ]
        }
      ]
    },
    {
      "cell_type": "code",
      "source": [
        "# we observe the performance improve for training\n",
        "f_importance_rf3 = f_importances_model(Random_Forest3, x_train_SibPar)\n",
        "# plot the importance features of random forest 3\n",
        "title = \"Feature_importance-RF3\"\n",
        "plot_f_importance_model(f_importance_rf3,title,save=False)"
      ],
      "metadata": {
        "colab": {
          "base_uri": "https://localhost:8080/",
          "height": 493
        },
        "id": "h0aIifD-8IXA",
        "outputId": "0ca66fe0-0b58-440b-da6e-e5f7364d8dc2"
      },
      "execution_count": null,
      "outputs": [
        {
          "output_type": "display_data",
          "data": {
            "text/plain": [
              "<Figure size 864x504 with 1 Axes>"
            ],
            "image/png": "[encoded data removed]"
          },
          "metadata": {
            "needs_background": "light"
          }
        }
      ]
    },
    {
      "cell_type": "markdown",
      "source": [
        "### Analysing Data Lakage - Third Random Forest\n"
      ],
      "metadata": {
        "id": "0nHNEyBR8UW8"
      }
    },
    {
      "cell_type": "code",
      "source": [
        "title = \"RF3 - partial dependence\"\n",
        "features = [\"IsChildWoman\",\"Fare\",\"Sex\",\"Age\",\"Title_Name\"]\n",
        "plot_partial_dependence_(Random_Forest3,title,x_val_SibPar,features,save=False)"
      ],
      "metadata": {
        "colab": {
          "base_uri": "https://localhost:8080/",
          "height": 551
        },
        "id": "EXT65_2N8dXh",
        "outputId": "3c39aa7d-6d43-4bae-e0f2-728256474f53"
      },
      "execution_count": null,
      "outputs": [
        {
          "output_type": "stream",
          "name": "stderr",
          "text": [
            "/usr/local/lib/python3.7/dist-packages/sklearn/utils/deprecation.py:87: FutureWarning: Function plot_partial_dependence is deprecated; Function `plot_partial_dependence` is deprecated in 1.0 and will be removed in 1.2. Use PartialDependenceDisplay.from_estimator instead\n",
            "  warnings.warn(msg, category=FutureWarning)\n"
          ]
        },
        {
          "output_type": "display_data",
          "data": {
            "text/plain": [
              "<Figure size 864x504 with 6 Axes>"
            ],
            "image/png": "[encoded data removed]"
          },
          "metadata": {
            "needs_background": "light"
          }
        }
      ]
    },
    {
      "cell_type": "markdown",
      "source": [
        "df_train[[\"Ticket\",\"Ticket-code\"]].head()df_train[[\"Ticket\",\"Ticket-code\"]].head()df_train[[\"Ticket\",\"Ticket-code\"]].head()df_train[[\"Ticket\",\"Ticket-code\"]].head()df_train[[\"Ticket\",\"Ticket-code\"]].head()cdf_train[[\"Ticket\",\"Ticket-code\"]].head()df_train[[\"Ticket\",\"Ticket-code\"]].head()df_train[[\"Ticket\",\"Ticket-code\"]].head()df_train[[\"Ticket\",\"Ticket-code\"]].head()### Testing - Kaggle"
      ],
      "metadata": {
        "id": "wvRY9S3l9IfQ"
      }
    },
    {
      "cell_type": "code",
      "source": [
        "colsMuest = x_val_SibPar.columns\n",
        "x_test = x_test[colsMuest]"
      ],
      "metadata": {
        "id": "6qX8ZBp_9N5q"
      },
      "execution_count": null,
      "outputs": []
    },
    {
      "cell_type": "code",
      "source": [
        "accT_RF_3 = accuracy(Random_Forest3,x_train_SibPar,y_train)\n",
        "accV_RF_3 = accuracy(Random_Forest3,x_val_SibPar,y_val)\n",
        "accTest_RF_3 = accuracy(Random_Forest3,x_test,y_test)\n",
        "print(\"Random Forest 3 : Train ACCU : {:.3f}\".format(accT_RF_3))\n",
        "print(\"Random Forest 3 : Valid ACCU : {:.3f}\".format(accV_RF_3))\n",
        "print(\"Random Forest 3 : Test ACCU : {:.3f}\".format(accTest_RF_3))"
      ],
      "metadata": {
        "colab": {
          "base_uri": "https://localhost:8080/"
        },
        "id": "L5pRmERB9vfN",
        "outputId": "8246bd37-b8cf-4bdf-df34-ba2f20c9a13c"
      },
      "execution_count": null,
      "outputs": [
        {
          "output_type": "stream",
          "name": "stdout",
          "text": [
            "Random Forest 3 : Train ACCU : 0.907\n",
            "Random Forest 3 : Valid ACCU : 0.838\n",
            "Random Forest 3 : Test ACCU : 0.825\n"
          ]
        }
      ]
    },
    {
      "cell_type": "markdown",
      "source": [
        "### Hyperparameters (rf3)\n"
      ],
      "metadata": {
        "id": "JamvtbDLAhtU"
      }
    },
    {
      "cell_type": "code",
      "source": [
        "hyperparameters = Random_Forest3.get_params()\n",
        "hyperparameters"
      ],
      "metadata": {
        "colab": {
          "base_uri": "https://localhost:8080/"
        },
        "id": "5P7HuQ_-AoRj",
        "outputId": "7923efa1-324c-4c5e-abb4-c669ae82f97b"
      },
      "execution_count": null,
      "outputs": [
        {
          "output_type": "execute_result",
          "data": {
            "text/plain": [
              "{'bootstrap': True,\n",
              " 'ccp_alpha': 0.0,\n",
              " 'class_weight': 'balanced_subsample',\n",
              " 'criterion': 'gini',\n",
              " 'max_depth': None,\n",
              " 'max_features': 0.5,\n",
              " 'max_leaf_nodes': None,\n",
              " 'max_samples': 498,\n",
              " 'min_impurity_decrease': 0.0,\n",
              " 'min_samples_leaf': 3,\n",
              " 'min_samples_split': 2,\n",
              " 'min_weight_fraction_leaf': 0.0,\n",
              " 'n_estimators': 60,\n",
              " 'n_jobs': -1,\n",
              " 'oob_score': True,\n",
              " 'random_state': None,\n",
              " 'verbose': 0,\n",
              " 'warm_start': False}"
            ]
          },
          "metadata": {},
          "execution_count": 58
        }
      ]
    },
    {
      "cell_type": "code",
      "source": [
        "model = RandomForestClassifier(**hyperparameters)"
      ],
      "metadata": {
        "id": "zECi5x3oDtLI"
      },
      "execution_count": null,
      "outputs": []
    },
    {
      "cell_type": "code",
      "source": [
        "model"
      ],
      "metadata": {
        "colab": {
          "base_uri": "https://localhost:8080/"
        },
        "id": "LM2ezanPEBS3",
        "outputId": "f11d4626-aa1f-4f7e-bb4f-98f7b46b7af5"
      },
      "execution_count": null,
      "outputs": [
        {
          "output_type": "execute_result",
          "data": {
            "text/plain": [
              "RandomForestClassifier(class_weight='balanced_subsample', max_features=0.5,\n",
              "                       max_samples=498, min_samples_leaf=3, n_estimators=60,\n",
              "                       n_jobs=-1, oob_score=True)"
            ]
          },
          "metadata": {},
          "execution_count": 60
        }
      ]
    },
    {
      "cell_type": "markdown",
      "source": [
        "### Saving the data\n"
      ],
      "metadata": {
        "id": "V1H90v3Wu--y"
      }
    },
    {
      "cell_type": "code",
      "source": [
        "data_train = pd.concat([x_train_SibPar,y_train], axis = 1)\n",
        "data_validation = pd.concat([x_val_SibPar,y_val], axis = 1)\n",
        "trainValidation = pd.concat([data_train,data_validation], axis = 0)"
      ],
      "metadata": {
        "id": "6GQsO3Il8JY0"
      },
      "execution_count": null,
      "outputs": []
    },
    {
      "cell_type": "code",
      "source": [
        "trainValidation.to_csv(dataPath + \"trainValidation_clean.csv\", index = False)\n",
        "pd.concat([x_test,y_test],axis = 1).to_csv(dataPath + \"test_clean.csv\", index = False)"
      ],
      "metadata": {
        "id": "cQbBYsFpvFRB"
      },
      "execution_count": null,
      "outputs": []
    }
  ]
}
